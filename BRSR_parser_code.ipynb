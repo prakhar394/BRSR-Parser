{
  "nbformat": 4,
  "nbformat_minor": 0,
  "metadata": {
    "colab": {
      "provenance": []
    },
    "kernelspec": {
      "name": "python3",
      "display_name": "Python 3"
    },
    "language_info": {
      "name": "python"
    }
  },
  "cells": [
    {
      "cell_type": "code",
      "execution_count": 1,
      "metadata": {
        "colab": {
          "base_uri": "https://localhost:8080/"
        },
        "id": "q42qQbcOisQ6",
        "outputId": "d179aa33-0d53-41b4-fb3e-98f66971458c"
      },
      "outputs": [
        {
          "output_type": "stream",
          "name": "stdout",
          "text": [
            "Looking in indexes: https://pypi.org/simple, https://us-python.pkg.dev/colab-wheels/public/simple/\n",
            "Requirement already satisfied: pandas in /usr/local/lib/python3.10/dist-packages (1.5.3)\n",
            "Requirement already satisfied: python-dateutil>=2.8.1 in /usr/local/lib/python3.10/dist-packages (from pandas) (2.8.2)\n",
            "Requirement already satisfied: pytz>=2020.1 in /usr/local/lib/python3.10/dist-packages (from pandas) (2022.7.1)\n",
            "Requirement already satisfied: numpy>=1.21.0 in /usr/local/lib/python3.10/dist-packages (from pandas) (1.22.4)\n",
            "Requirement already satisfied: six>=1.5 in /usr/local/lib/python3.10/dist-packages (from python-dateutil>=2.8.1->pandas) (1.16.0)\n"
          ]
        }
      ],
      "source": [
        "pip install pandas"
      ]
    },
    {
      "cell_type": "code",
      "source": [
        "pip install camelot-py"
      ],
      "metadata": {
        "colab": {
          "base_uri": "https://localhost:8080/"
        },
        "id": "CYwmyZNLi1nm",
        "outputId": "328e084b-70b2-4f38-ee2a-5787f8e26aab"
      },
      "execution_count": 2,
      "outputs": [
        {
          "output_type": "stream",
          "name": "stdout",
          "text": [
            "Looking in indexes: https://pypi.org/simple, https://us-python.pkg.dev/colab-wheels/public/simple/\n",
            "Collecting camelot-py\n",
            "  Downloading camelot_py-0.11.0-py3-none-any.whl (40 kB)\n",
            "\u001b[2K     \u001b[90m━━━━━━━━━━━━━━━━━━━━━━━━━━━━━━━━━━━━━━━━\u001b[0m \u001b[32m41.0/41.0 kB\u001b[0m \u001b[31m2.2 MB/s\u001b[0m eta \u001b[36m0:00:00\u001b[0m\n",
            "\u001b[?25hRequirement already satisfied: chardet>=3.0.4 in /usr/local/lib/python3.10/dist-packages (from camelot-py) (4.0.0)\n",
            "Requirement already satisfied: click>=6.7 in /usr/local/lib/python3.10/dist-packages (from camelot-py) (8.1.3)\n",
            "Requirement already satisfied: numpy>=1.13.3 in /usr/local/lib/python3.10/dist-packages (from camelot-py) (1.22.4)\n",
            "Requirement already satisfied: openpyxl>=2.5.8 in /usr/local/lib/python3.10/dist-packages (from camelot-py) (3.0.10)\n",
            "Requirement already satisfied: pandas>=0.23.4 in /usr/local/lib/python3.10/dist-packages (from camelot-py) (1.5.3)\n",
            "Collecting pdfminer.six>=20200726 (from camelot-py)\n",
            "  Downloading pdfminer.six-20221105-py3-none-any.whl (5.6 MB)\n",
            "\u001b[2K     \u001b[90m━━━━━━━━━━━━━━━━━━━━━━━━━━━━━━━━━━━━━━━━\u001b[0m \u001b[32m5.6/5.6 MB\u001b[0m \u001b[31m44.9 MB/s\u001b[0m eta \u001b[36m0:00:00\u001b[0m\n",
            "\u001b[?25hCollecting pypdf>=3.0.0 (from camelot-py)\n",
            "  Downloading pypdf-3.9.1-py3-none-any.whl (249 kB)\n",
            "\u001b[2K     \u001b[90m━━━━━━━━━━━━━━━━━━━━━━━━━━━━━━━━━━━━━━\u001b[0m \u001b[32m249.3/249.3 kB\u001b[0m \u001b[31m22.9 MB/s\u001b[0m eta \u001b[36m0:00:00\u001b[0m\n",
            "\u001b[?25hRequirement already satisfied: tabulate>=0.8.9 in /usr/local/lib/python3.10/dist-packages (from camelot-py) (0.8.10)\n",
            "Requirement already satisfied: et-xmlfile in /usr/local/lib/python3.10/dist-packages (from openpyxl>=2.5.8->camelot-py) (1.1.0)\n",
            "Requirement already satisfied: python-dateutil>=2.8.1 in /usr/local/lib/python3.10/dist-packages (from pandas>=0.23.4->camelot-py) (2.8.2)\n",
            "Requirement already satisfied: pytz>=2020.1 in /usr/local/lib/python3.10/dist-packages (from pandas>=0.23.4->camelot-py) (2022.7.1)\n",
            "Requirement already satisfied: charset-normalizer>=2.0.0 in /usr/local/lib/python3.10/dist-packages (from pdfminer.six>=20200726->camelot-py) (2.0.12)\n",
            "Requirement already satisfied: cryptography>=36.0.0 in /usr/local/lib/python3.10/dist-packages (from pdfminer.six>=20200726->camelot-py) (40.0.2)\n",
            "Requirement already satisfied: cffi>=1.12 in /usr/local/lib/python3.10/dist-packages (from cryptography>=36.0.0->pdfminer.six>=20200726->camelot-py) (1.15.1)\n",
            "Requirement already satisfied: six>=1.5 in /usr/local/lib/python3.10/dist-packages (from python-dateutil>=2.8.1->pandas>=0.23.4->camelot-py) (1.16.0)\n",
            "Requirement already satisfied: pycparser in /usr/local/lib/python3.10/dist-packages (from cffi>=1.12->cryptography>=36.0.0->pdfminer.six>=20200726->camelot-py) (2.21)\n",
            "Installing collected packages: pypdf, pdfminer.six, camelot-py\n",
            "Successfully installed camelot-py-0.11.0 pdfminer.six-20221105 pypdf-3.9.1\n"
          ]
        }
      ]
    },
    {
      "cell_type": "code",
      "source": [
        "pip install ghostscript"
      ],
      "metadata": {
        "colab": {
          "base_uri": "https://localhost:8080/"
        },
        "id": "wlyxtvrRj4ct",
        "outputId": "27d7c57c-6bc3-4d1f-cccd-0ff68bb0cd67"
      },
      "execution_count": 3,
      "outputs": [
        {
          "output_type": "stream",
          "name": "stdout",
          "text": [
            "Looking in indexes: https://pypi.org/simple, https://us-python.pkg.dev/colab-wheels/public/simple/\n",
            "Collecting ghostscript\n",
            "  Downloading ghostscript-0.7-py2.py3-none-any.whl (25 kB)\n",
            "Requirement already satisfied: setuptools>=38.6.0 in /usr/local/lib/python3.10/dist-packages (from ghostscript) (67.7.2)\n",
            "Installing collected packages: ghostscript\n",
            "Successfully installed ghostscript-0.7\n"
          ]
        }
      ]
    },
    {
      "cell_type": "code",
      "source": [
        "!which gs"
      ],
      "metadata": {
        "id": "tbVSf3NLlIv4"
      },
      "execution_count": 4,
      "outputs": []
    },
    {
      "cell_type": "code",
      "source": [
        "!sudo apt install ghostscript python3-tk"
      ],
      "metadata": {
        "colab": {
          "base_uri": "https://localhost:8080/"
        },
        "id": "h3pcFqf1kE54",
        "outputId": "26047a5f-4f73-40c2-d4d6-93a219a69f46"
      },
      "execution_count": 5,
      "outputs": [
        {
          "output_type": "stream",
          "name": "stdout",
          "text": [
            "Reading package lists... Done\n",
            "Building dependency tree       \n",
            "Reading state information... Done\n",
            "The following additional packages will be installed:\n",
            "  blt fonts-droid-fallback fonts-noto-mono fonts-urw-base35 libgs9\n",
            "  libgs9-common libidn11 libijs-0.35 libjbig2dec0 poppler-data tk8.6-blt2.5\n",
            "Suggested packages:\n",
            "  blt-demo fonts-noto fonts-freefont-otf | fonts-freefont-ttf fonts-texgyre\n",
            "  ghostscript-x poppler-utils fonts-japanese-mincho | fonts-ipafont-mincho\n",
            "  fonts-japanese-gothic | fonts-ipafont-gothic fonts-arphic-ukai\n",
            "  fonts-arphic-uming fonts-nanum tix python3-tk-dbg\n",
            "The following NEW packages will be installed:\n",
            "  blt fonts-droid-fallback fonts-noto-mono fonts-urw-base35 ghostscript libgs9\n",
            "  libgs9-common libidn11 libijs-0.35 libjbig2dec0 poppler-data python3-tk\n",
            "  tk8.6-blt2.5\n",
            "0 upgraded, 13 newly installed, 0 to remove and 15 not upgraded.\n",
            "Need to get 13.4 MB of archives.\n",
            "After this operation, 54.8 MB of additional disk space will be used.\n",
            "Get:1 http://archive.ubuntu.com/ubuntu focal/main amd64 fonts-droid-fallback all 1:6.0.1r16-1.1 [1,805 kB]\n",
            "Get:2 http://archive.ubuntu.com/ubuntu focal/main amd64 poppler-data all 0.4.9-2 [1,475 kB]\n",
            "Get:3 http://archive.ubuntu.com/ubuntu focal/main amd64 tk8.6-blt2.5 amd64 2.5.3+dfsg-4 [572 kB]\n",
            "Get:4 http://archive.ubuntu.com/ubuntu focal/main amd64 blt amd64 2.5.3+dfsg-4 [4,944 B]\n",
            "Get:5 http://archive.ubuntu.com/ubuntu focal-updates/main amd64 fonts-noto-mono all 20200323-1build1~ubuntu20.04.1 [80.6 kB]\n",
            "Get:6 http://archive.ubuntu.com/ubuntu focal/main amd64 fonts-urw-base35 all 20170801.1-3 [6,333 kB]\n",
            "Get:7 http://archive.ubuntu.com/ubuntu focal-updates/main amd64 libgs9-common all 9.50~dfsg-5ubuntu4.7 [681 kB]\n",
            "Get:8 http://archive.ubuntu.com/ubuntu focal/main amd64 libidn11 amd64 1.33-2.2ubuntu2 [46.2 kB]\n",
            "Get:9 http://archive.ubuntu.com/ubuntu focal/main amd64 libijs-0.35 amd64 0.35-15 [15.7 kB]\n",
            "Get:10 http://archive.ubuntu.com/ubuntu focal/main amd64 libjbig2dec0 amd64 0.18-1ubuntu1 [60.0 kB]\n",
            "Get:11 http://archive.ubuntu.com/ubuntu focal-updates/main amd64 libgs9 amd64 9.50~dfsg-5ubuntu4.7 [2,173 kB]\n",
            "Get:12 http://archive.ubuntu.com/ubuntu focal-updates/main amd64 ghostscript amd64 9.50~dfsg-5ubuntu4.7 [51.9 kB]\n",
            "Get:13 http://archive.ubuntu.com/ubuntu focal-updates/main amd64 python3-tk amd64 3.8.10-0ubuntu1~20.04 [104 kB]\n",
            "Fetched 13.4 MB in 5s (2,794 kB/s)\n",
            "debconf: unable to initialize frontend: Dialog\n",
            "debconf: (No usable dialog-like program is installed, so the dialog based frontend cannot be used. at /usr/share/perl5/Debconf/FrontEnd/Dialog.pm line 76, <> line 13.)\n",
            "debconf: falling back to frontend: Readline\n",
            "debconf: unable to initialize frontend: Readline\n",
            "debconf: (This frontend requires a controlling tty.)\n",
            "debconf: falling back to frontend: Teletype\n",
            "dpkg-preconfigure: unable to re-open stdin: \n",
            "Selecting previously unselected package fonts-droid-fallback.\n",
            "(Reading database ... 123069 files and directories currently installed.)\n",
            "Preparing to unpack .../00-fonts-droid-fallback_1%3a6.0.1r16-1.1_all.deb ...\n",
            "Unpacking fonts-droid-fallback (1:6.0.1r16-1.1) ...\n",
            "Selecting previously unselected package poppler-data.\n",
            "Preparing to unpack .../01-poppler-data_0.4.9-2_all.deb ...\n",
            "Unpacking poppler-data (0.4.9-2) ...\n",
            "Selecting previously unselected package tk8.6-blt2.5.\n",
            "Preparing to unpack .../02-tk8.6-blt2.5_2.5.3+dfsg-4_amd64.deb ...\n",
            "Unpacking tk8.6-blt2.5 (2.5.3+dfsg-4) ...\n",
            "Selecting previously unselected package blt.\n",
            "Preparing to unpack .../03-blt_2.5.3+dfsg-4_amd64.deb ...\n",
            "Unpacking blt (2.5.3+dfsg-4) ...\n",
            "Selecting previously unselected package fonts-noto-mono.\n",
            "Preparing to unpack .../04-fonts-noto-mono_20200323-1build1~ubuntu20.04.1_all.deb ...\n",
            "Unpacking fonts-noto-mono (20200323-1build1~ubuntu20.04.1) ...\n",
            "Selecting previously unselected package fonts-urw-base35.\n",
            "Preparing to unpack .../05-fonts-urw-base35_20170801.1-3_all.deb ...\n",
            "Unpacking fonts-urw-base35 (20170801.1-3) ...\n",
            "Selecting previously unselected package libgs9-common.\n",
            "Preparing to unpack .../06-libgs9-common_9.50~dfsg-5ubuntu4.7_all.deb ...\n",
            "Unpacking libgs9-common (9.50~dfsg-5ubuntu4.7) ...\n",
            "Selecting previously unselected package libidn11:amd64.\n",
            "Preparing to unpack .../07-libidn11_1.33-2.2ubuntu2_amd64.deb ...\n",
            "Unpacking libidn11:amd64 (1.33-2.2ubuntu2) ...\n",
            "Selecting previously unselected package libijs-0.35:amd64.\n",
            "Preparing to unpack .../08-libijs-0.35_0.35-15_amd64.deb ...\n",
            "Unpacking libijs-0.35:amd64 (0.35-15) ...\n",
            "Selecting previously unselected package libjbig2dec0:amd64.\n",
            "Preparing to unpack .../09-libjbig2dec0_0.18-1ubuntu1_amd64.deb ...\n",
            "Unpacking libjbig2dec0:amd64 (0.18-1ubuntu1) ...\n",
            "Selecting previously unselected package libgs9:amd64.\n",
            "Preparing to unpack .../10-libgs9_9.50~dfsg-5ubuntu4.7_amd64.deb ...\n",
            "Unpacking libgs9:amd64 (9.50~dfsg-5ubuntu4.7) ...\n",
            "Selecting previously unselected package ghostscript.\n",
            "Preparing to unpack .../11-ghostscript_9.50~dfsg-5ubuntu4.7_amd64.deb ...\n",
            "Unpacking ghostscript (9.50~dfsg-5ubuntu4.7) ...\n",
            "Selecting previously unselected package python3-tk:amd64.\n",
            "Preparing to unpack .../12-python3-tk_3.8.10-0ubuntu1~20.04_amd64.deb ...\n",
            "Unpacking python3-tk:amd64 (3.8.10-0ubuntu1~20.04) ...\n",
            "Setting up tk8.6-blt2.5 (2.5.3+dfsg-4) ...\n",
            "Setting up fonts-noto-mono (20200323-1build1~ubuntu20.04.1) ...\n",
            "Setting up libijs-0.35:amd64 (0.35-15) ...\n",
            "Setting up blt (2.5.3+dfsg-4) ...\n",
            "Setting up python3-tk:amd64 (3.8.10-0ubuntu1~20.04) ...\n",
            "Setting up fonts-urw-base35 (20170801.1-3) ...\n",
            "Setting up poppler-data (0.4.9-2) ...\n",
            "Setting up libjbig2dec0:amd64 (0.18-1ubuntu1) ...\n",
            "Setting up libidn11:amd64 (1.33-2.2ubuntu2) ...\n",
            "Setting up fonts-droid-fallback (1:6.0.1r16-1.1) ...\n",
            "Setting up libgs9-common (9.50~dfsg-5ubuntu4.7) ...\n",
            "Setting up libgs9:amd64 (9.50~dfsg-5ubuntu4.7) ...\n",
            "Setting up ghostscript (9.50~dfsg-5ubuntu4.7) ...\n",
            "Processing triggers for fontconfig (2.13.1-2ubuntu3) ...\n",
            "Processing triggers for libc-bin (2.31-0ubuntu9.9) ...\n",
            "Processing triggers for man-db (2.9.1-1) ...\n"
          ]
        }
      ]
    },
    {
      "cell_type": "code",
      "source": [
        "import camelot\n",
        "import os\n",
        "\n",
        "# Set the path to the Ghostscript executable\n",
        "ghostscript_path = '/usr/bin/gs'\n",
        "\n",
        "# Specify the path to your PDF file\n",
        "pdf_path = '/content/drive/MyDrive/Colab Notebooks/sample_data/hdfc_brsr.pdf'\n",
        "# Set the Ghostscript path in the environment variable\n",
        "os.environ['CAMELOT_GHOSTSCRIPT_PATH'] = ghostscript_path\n",
        "\n",
        "# Use camelot with the 'lattice' flavor\n",
        "tables = camelot.read_pdf(pdf_path, flavor='lattice')\n",
        "\n",
        "# Iterate over the tables extracted using the 'lattice' flavor\n",
        "for table in tables:\n",
        "    df = table.df\n",
        "    print(df)\n",
        "\n",
        "tables_stream = camelot.read_pdf(pdf_path, flavor='stream')\n",
        "\n",
        "# Iterate over the tables extracted using the 'stream' flavor\n",
        "for table in tables_stream:\n",
        "    df = table.df\n",
        "    print(df)"
      ],
      "metadata": {
        "colab": {
          "base_uri": "https://localhost:8080/"
        },
        "id": "2VRYK6jHkWhl",
        "outputId": "cd8f1e83-3661-45e3-d8e8-b40a79c3de86"
      },
      "execution_count": 7,
      "outputs": [
        {
          "output_type": "stream",
          "name": "stdout",
          "text": [
            "   0 1 2 3 4 5 6\n",
            "0               \n",
            "1               \n",
            "2               \n",
            "3               \n",
            "4  1            \n",
            "   0\n",
            "0  1\n"
          ]
        },
        {
          "output_type": "stream",
          "name": "stderr",
          "text": [
            "/usr/local/lib/python3.10/dist-packages/camelot/parsers/stream.py:365: UserWarning: No tables found in table area 1\n",
            "  warnings.warn(f\"No tables found in table area {table_idx + 1}\")\n"
          ]
        }
      ]
    },
    {
      "cell_type": "code",
      "source": [
        "pdf_path = '/content/drive/MyDrive/Colab Notebooks/sample_data/hdfc_brsr.pdf'\n",
        "# df.to_csv('/content/sample_data/page1.csv')"
      ],
      "metadata": {
        "id": "7qIUqxehwjix"
      },
      "execution_count": 8,
      "outputs": []
    },
    {
      "cell_type": "code",
      "source": [
        "pip install PyPDF2"
      ],
      "metadata": {
        "colab": {
          "base_uri": "https://localhost:8080/"
        },
        "id": "BX4dkfUljZG5",
        "outputId": "027a194d-4e84-440a-ef4a-883e63faa67a"
      },
      "execution_count": 9,
      "outputs": [
        {
          "output_type": "stream",
          "name": "stdout",
          "text": [
            "Looking in indexes: https://pypi.org/simple, https://us-python.pkg.dev/colab-wheels/public/simple/\n",
            "Collecting PyPDF2\n",
            "  Downloading pypdf2-3.0.1-py3-none-any.whl (232 kB)\n",
            "\u001b[2K     \u001b[90m━━━━━━━━━━━━━━━━━━━━━━━━━━━━━━━━━━━━━━━\u001b[0m \u001b[32m232.6/232.6 kB\u001b[0m \u001b[31m4.6 MB/s\u001b[0m eta \u001b[36m0:00:00\u001b[0m\n",
            "\u001b[?25hInstalling collected packages: PyPDF2\n",
            "Successfully installed PyPDF2-3.0.1\n"
          ]
        }
      ]
    },
    {
      "cell_type": "markdown",
      "source": [
        "# Extracting Tables Section Wise"
      ],
      "metadata": {
        "id": "2nYbROVuJBZg"
      }
    },
    {
      "cell_type": "code",
      "source": [
        "pip install tabula"
      ],
      "metadata": {
        "colab": {
          "base_uri": "https://localhost:8080/"
        },
        "id": "ztV0_sd4JOh-",
        "outputId": "a3b076d3-0904-4a23-fcb6-875fdd239e35"
      },
      "execution_count": 10,
      "outputs": [
        {
          "output_type": "stream",
          "name": "stdout",
          "text": [
            "Looking in indexes: https://pypi.org/simple, https://us-python.pkg.dev/colab-wheels/public/simple/\n",
            "Collecting tabula\n",
            "  Downloading tabula-1.0.5.tar.gz (9.5 kB)\n",
            "  Preparing metadata (setup.py) ... \u001b[?25l\u001b[?25hdone\n",
            "Requirement already satisfied: setuptools in /usr/local/lib/python3.10/dist-packages (from tabula) (67.7.2)\n",
            "Requirement already satisfied: numpy in /usr/local/lib/python3.10/dist-packages (from tabula) (1.22.4)\n",
            "Building wheels for collected packages: tabula\n",
            "  Building wheel for tabula (setup.py) ... \u001b[?25l\u001b[?25hdone\n",
            "  Created wheel for tabula: filename=tabula-1.0.5-py3-none-any.whl size=10585 sha256=2de4112753f2170cb6e4f8c0022b0bf43d2210473578fb4bac34da8cc3321933\n",
            "  Stored in directory: /root/.cache/pip/wheels/3c/5d/6a/bd13fe26e73e2170dfea1f6ccb69a69e824735e04b73192b39\n",
            "Successfully built tabula\n",
            "Installing collected packages: tabula\n",
            "Successfully installed tabula-1.0.5\n"
          ]
        }
      ]
    },
    {
      "cell_type": "code",
      "source": [
        "pip install pdfplumber"
      ],
      "metadata": {
        "colab": {
          "base_uri": "https://localhost:8080/",
          "height": 488
        },
        "id": "TEotdn0ZpmeK",
        "outputId": "47891d67-6ca4-4732-8f10-e71f1a0c9f18"
      },
      "execution_count": 11,
      "outputs": [
        {
          "output_type": "stream",
          "name": "stdout",
          "text": [
            "Looking in indexes: https://pypi.org/simple, https://us-python.pkg.dev/colab-wheels/public/simple/\n",
            "Collecting pdfplumber\n",
            "  Downloading pdfplumber-0.9.0-py3-none-any.whl (46 kB)\n",
            "\u001b[2K     \u001b[90m━━━━━━━━━━━━━━━━━━━━━━━━━━━━━━━━━━━━━━━━\u001b[0m \u001b[32m46.1/46.1 kB\u001b[0m \u001b[31m2.7 MB/s\u001b[0m eta \u001b[36m0:00:00\u001b[0m\n",
            "\u001b[?25hRequirement already satisfied: pdfminer.six==20221105 in /usr/local/lib/python3.10/dist-packages (from pdfplumber) (20221105)\n",
            "Collecting Pillow>=9.1 (from pdfplumber)\n",
            "  Downloading Pillow-9.5.0-cp310-cp310-manylinux_2_28_x86_64.whl (3.4 MB)\n",
            "\u001b[2K     \u001b[90m━━━━━━━━━━━━━━━━━━━━━━━━━━━━━━━━━━━━━━━━\u001b[0m \u001b[32m3.4/3.4 MB\u001b[0m \u001b[31m37.5 MB/s\u001b[0m eta \u001b[36m0:00:00\u001b[0m\n",
            "\u001b[?25hCollecting Wand>=0.6.10 (from pdfplumber)\n",
            "  Downloading Wand-0.6.11-py2.py3-none-any.whl (143 kB)\n",
            "\u001b[2K     \u001b[90m━━━━━━━━━━━━━━━━━━━━━━━━━━━━━━━━━━━━━━\u001b[0m \u001b[32m143.6/143.6 kB\u001b[0m \u001b[31m13.5 MB/s\u001b[0m eta \u001b[36m0:00:00\u001b[0m\n",
            "\u001b[?25hRequirement already satisfied: charset-normalizer>=2.0.0 in /usr/local/lib/python3.10/dist-packages (from pdfminer.six==20221105->pdfplumber) (2.0.12)\n",
            "Requirement already satisfied: cryptography>=36.0.0 in /usr/local/lib/python3.10/dist-packages (from pdfminer.six==20221105->pdfplumber) (40.0.2)\n",
            "Requirement already satisfied: cffi>=1.12 in /usr/local/lib/python3.10/dist-packages (from cryptography>=36.0.0->pdfminer.six==20221105->pdfplumber) (1.15.1)\n",
            "Requirement already satisfied: pycparser in /usr/local/lib/python3.10/dist-packages (from cffi>=1.12->cryptography>=36.0.0->pdfminer.six==20221105->pdfplumber) (2.21)\n",
            "Installing collected packages: Wand, Pillow, pdfplumber\n",
            "  Attempting uninstall: Pillow\n",
            "    Found existing installation: Pillow 8.4.0\n",
            "    Uninstalling Pillow-8.4.0:\n",
            "      Successfully uninstalled Pillow-8.4.0\n",
            "Successfully installed Pillow-9.5.0 Wand-0.6.11 pdfplumber-0.9.0\n"
          ]
        },
        {
          "output_type": "display_data",
          "data": {
            "application/vnd.colab-display-data+json": {
              "pip_warning": {
                "packages": [
                  "PIL"
                ]
              }
            }
          },
          "metadata": {}
        }
      ]
    },
    {
      "cell_type": "code",
      "source": [
        "from PyPDF2 import PdfFileReader,PdfReader\n",
        "import pandas as pd\n",
        "import numpy as np\n",
        "import camelot\n",
        "import tabula"
      ],
      "metadata": {
        "id": "4nNR0eoTI6hn"
      },
      "execution_count": 12,
      "outputs": []
    },
    {
      "cell_type": "code",
      "source": [
        "file_path = \"/content/drive/MyDrive/Colab Notebooks/sample_data/hdfc_brsr.pdf\"\n",
        "pdf_file = open(file_path,\"rb\")"
      ],
      "metadata": {
        "id": "kZ_Su7_LJYZI"
      },
      "execution_count": 13,
      "outputs": []
    },
    {
      "cell_type": "code",
      "source": [
        "reader = PdfReader(pdf_file, strict=False)\n",
        "num_pages = len(reader.pages)\n",
        "print(num_pages)"
      ],
      "metadata": {
        "colab": {
          "base_uri": "https://localhost:8080/"
        },
        "id": "b_Fi5hncJsTq",
        "outputId": "509b9f3e-cf9f-488f-a252-fe80dd0e682d"
      },
      "execution_count": 14,
      "outputs": [
        {
          "output_type": "stream",
          "name": "stdout",
          "text": [
            "38\n"
          ]
        }
      ]
    },
    {
      "cell_type": "code",
      "source": [
        "## list of Sections to get search pattern and extract tables section wise\n",
        "#hdfc sections\n",
        "sections = ['SECTION A: GENERAL DISCLOSURES','SECTION B: MANAGEMENT AND PROCESS DISCLOSURES','SECTION C: PRINCIPLE-WISE PERFORMANCE DISCLOSURE']\n",
        "principles = [\"BUSINESSES SHOULD CONDUCT AND GOVERN THEMSELVES\",\n",
        "              \"BUSINESSES SHOULD PROVIDE GOODS AND SERVICES\",\n",
        "              \"BUSINESSES SHOULD RESPECT AND PROMOTE THE WELL-BEING OF ALL\",\n",
        "              \"BUSINESSES SHOULD RESPECT THE INTERESTS OF AND BE RESPONSIVE TO ALL\",\n",
        "              \"BUSINESSES SHOULD RESPECT AND PROMOTE HUMAN RIGHTS\",\n",
        "              \"BUSINESSES SHOULD RESPECT AND MAKE EFFORTS TO PROTECT AND RESTORE\",\n",
        "              \"BUSINESSES, WHEN ENGAGING IN INFLUENCING PUBLIC AND REGULATORY\",\n",
        "              \"BUSINESSES SHOULD PROMOTE INCLUSIVE GROWTH AND EQUITABLE\",\n",
        "              \"BUSINESSES SHOULD ENGAGE WITH AND PROVIDE VALUE TO THEIR\"]\n",
        "#abb sections\n",
        "# sections = ['SECTION A: GENERAL DISCLOSURES','SECTION B: MANAGEMENT AND PROCESS DISCLOSURES','SECTION C: PRINCIPLE WISE PERFORMANCE DISCLOSURE']"
      ],
      "metadata": {
        "id": "RO7G4R6IJ_QI"
      },
      "execution_count": 21,
      "outputs": []
    },
    {
      "cell_type": "code",
      "source": [
        "def fnPDF_FindText(xString, startPage):\n",
        "    # xfile : the PDF file in which to look\n",
        "    # xString : the string to look for\n",
        "    import re\n",
        "    PageFound = -1\n",
        "    #pdfDoc = PdfFileReader(file(xFile, \"rb\"))\n",
        "    for i in range(startPage, num_pages):\n",
        "        PgOb =  reader.pages[i]\n",
        "        Text = PgOb.extract_text()\n",
        "        if re.search(xString,Text):\n",
        "             print(\"String - \"+xString+\", found on Page: \"+str(i))\n",
        "             PageFound = i\n",
        "             return PageFound"
      ],
      "metadata": {
        "id": "sXfUkhJVKInw"
      },
      "execution_count": 32,
      "outputs": []
    },
    {
      "cell_type": "code",
      "source": [
        "# from pdfminer.pdfdocument import PageLabels\n",
        "# from pdfminer import high_level\n",
        "# import pdfplumber\n",
        "# import pdfminer\n",
        "# def fnPDF_FindText(xString, startPage):\n",
        "#     # xfile : the PDF file in which to look\n",
        "#     # xString : the string to look for\n",
        "#     import re\n",
        "#     PageFound = -1\n",
        "#     #pdfDoc = PdfFileReader(file(xFile, \"rb\"))\n",
        "#     for i in range(startPage, num_pages):\n",
        "#         PgOb = reader.pages[i]\n",
        "#         with open(file_path, 'rb') as f:\n",
        "#               Text = high_level.extract_text(f)\n",
        "#           #  text = high_level.extract_text(f)\n",
        "\n",
        "#             # Text = high_level.extract_text(PgOb)\n",
        "#               if re.search(xString,Text):\n",
        "#                   print(\"String - \"+xString+\", found on Page: \"+str(i))\n",
        "#                   PageFound = i\n",
        "#                   return PageFound"
      ],
      "metadata": {
        "id": "VnHNOURbtpPl"
      },
      "execution_count": null,
      "outputs": []
    },
    {
      "cell_type": "code",
      "source": [
        "## Get All Pages for each Section\n",
        "# sectional length list - section\n",
        "section_pages = []\n",
        "section_pages.append(3)\n",
        "for i in range(0,len(sections)):\n",
        "\n",
        "    start_search_string = sections[i]\n",
        "    print('Start Search for section '+start_search_string)\n",
        "    start_page = fnPDF_FindText(start_search_string,section_pages[i])\n",
        "    print(start_page)\n",
        "    section_pages.append(start_page)\n",
        "\n",
        "\n",
        "section_pages.append(num_pages)\n",
        "#remove duplicates\n",
        "section_pages = [*set(section_pages)]\n",
        "#sort in ascending order\n",
        "section_pages.sort()\n",
        "print(section_pages)"
      ],
      "metadata": {
        "colab": {
          "base_uri": "https://localhost:8080/"
        },
        "id": "wwAM5Fs3KOEe",
        "outputId": "e9e1ece1-de7a-4775-d032-c4b4672e810f"
      },
      "execution_count": 23,
      "outputs": [
        {
          "output_type": "stream",
          "name": "stdout",
          "text": [
            "Start Search for section SECTION A: GENERAL DISCLOSURES\n",
            "String - SECTION A: GENERAL DISCLOSURES, found on Page: 3\n",
            "3\n",
            "Start Search for section SECTION B: MANAGEMENT AND PROCESS DISCLOSURES\n",
            "String - SECTION B: MANAGEMENT AND PROCESS DISCLOSURES, found on Page: 9\n",
            "9\n",
            "Start Search for section SECTION C: PRINCIPLE-WISE PERFORMANCE DISCLOSURE\n",
            "String - SECTION C: PRINCIPLE-WISE PERFORMANCE DISCLOSURE, found on Page: 13\n",
            "13\n",
            "[3, 9, 13, 38]\n"
          ]
        }
      ]
    },
    {
      "cell_type": "code",
      "source": [
        "# Create Directories\n",
        "import os.path\n",
        "from os import path\n",
        "\n",
        "if path.exists('/content/drive/MyDrive/Colab Notebooks/sample_data/section_a') == False:\n",
        "  os.mkdir('/content/drive/MyDrive/Colab Notebooks/sample_data/section_a')\n",
        "\n",
        "os.chdir('/content/drive/MyDrive/Colab Notebooks/sample_data/section_a')\n",
        "\n",
        "if path.exists('/content/drive/MyDrive/Colab Notebooks/sample_data/section_b') == False:\n",
        "  os.mkdir('/content/drive/MyDrive/Colab Notebooks/sample_data/section_b')\n",
        "\n",
        "os.chdir('/content/drive/MyDrive/Colab Notebooks/sample_data/section_b')\n",
        "\n",
        "if path.exists('/content/drive/MyDrive/Colab Notebooks/sample_data/section_c') == False:\n",
        "  os.mkdir('/content/drive/MyDrive/Colab Notebooks/sample_data/section_c')\n",
        "\n",
        "os.chdir('/content/drive/MyDrive/Colab Notebooks/sample_data/section_c')\n",
        "!pwd\n",
        "!ls"
      ],
      "metadata": {
        "colab": {
          "base_uri": "https://localhost:8080/"
        },
        "id": "aA_TnpSUyT3i",
        "outputId": "ea7e9fa3-e08a-4b0b-b11b-05264ee98483"
      },
      "execution_count": 24,
      "outputs": [
        {
          "output_type": "stream",
          "name": "stdout",
          "text": [
            "/content/drive/MyDrive/Colab Notebooks/sample_data/section_c\n"
          ]
        }
      ]
    },
    {
      "cell_type": "code",
      "source": [
        "# Divide pages to sections\n",
        "sec_a_pg = [section_pages[0],section_pages[1]]\n",
        "sec_b_pg = [section_pages[1],section_pages[2]]\n",
        "sec_c_pg = [section_pages[2],section_pages[3]]\n",
        "print(sec_a_pg)\n",
        "print(sec_b_pg)\n",
        "print(sec_c_pg)"
      ],
      "metadata": {
        "colab": {
          "base_uri": "https://localhost:8080/"
        },
        "id": "2O92LQ6NyucA",
        "outputId": "ccd56a43-2f32-42f7-8c14-913c4a44ddea"
      },
      "execution_count": 25,
      "outputs": [
        {
          "output_type": "stream",
          "name": "stdout",
          "text": [
            "[3, 9]\n",
            "[9, 13]\n",
            "[13, 38]\n"
          ]
        }
      ]
    },
    {
      "cell_type": "code",
      "source": [
        "# Do table parsing for all pages in each section\n",
        "\n",
        "import camelot\n",
        "import os\n",
        "from PyPDF2 import PdfReader , PdfWriter\n",
        "# Set the path to the Ghostscript executable\n",
        "ghostscript_path = '/usr/bin/gs'\n",
        "# Set the Ghostscript path in the environment variable\n",
        "os.environ['CAMELOT_GHOSTSCRIPT_PATH'] = ghostscript_path\n",
        "pdf_path = \"/content/drive/MyDrive/Colab Notebooks/sample_data/hdfc_brsr.pdf\"\n",
        "pdf = PdfReader(pdf_path)\n",
        "\n",
        "# For section A\n",
        "for i in range(sec_a_pg[0],sec_a_pg[1]):\n",
        "  os.chdir('/content/drive/MyDrive/Colab Notebooks/sample_data/')\n",
        "  print(i)\n",
        "  !pwd\n",
        "  pdf_path = \"/content/drive/MyDrive/Colab Notebooks/sample_data/hdfc_brsr.pdf\"\n",
        "  with open(pdf_path, 'rb') as infile:\n",
        "      reader = PdfReader(infile)\n",
        "      writer = PdfWriter()\n",
        "      writer.add_page(reader.pages[i])\n",
        "      with open('output.pdf', 'wb') as outfile:\n",
        "          writer.write(outfile)\n",
        "\n",
        "  # Specify the path to your PDF file\n",
        "  pdf_path = '/content/drive/MyDrive/Colab Notebooks/sample_data/output.pdf'\n",
        "\n",
        "  # Use camelot with the 'lattice' flavor\n",
        "  tables = camelot.read_pdf(pdf_path, flavor='lattice')\n",
        "\n",
        "  # Iterate over the tables extracted using the 'lattice' flavor\n",
        "  c = 0\n",
        "  print(\"On page no. \",i)\n",
        "  dname = '/content/drive/MyDrive/Colab Notebooks/sample_data/section_a' + '/page_' + str(i) + '_tables'\n",
        "  if path.exists(dname) == False:\n",
        "    os.mkdir(dname)\n",
        "\n",
        "  os.chdir(dname)\n",
        "  for table in tables:\n",
        "      c += 1\n",
        "      df = table.df\n",
        "      df.to_csv('table_' + str(c) + '.csv',index=False)\n",
        "  print(\"Extracted no. of tables = \",tables.n)\n",
        "\n",
        "  # tables_stream = camelot.read_pdf(pdf_path, flavor='stream')\n",
        "  # print(tables_stream.n)\n",
        "\n",
        "\n",
        "# For section B\n",
        "for i in range(sec_b_pg[0],sec_b_pg[1]):\n",
        "  os.chdir('/content/drive/MyDrive/Colab Notebooks/sample_data/')\n",
        "  print(i)\n",
        "  !pwd\n",
        "  pdf_path = \"/content/drive/MyDrive/Colab Notebooks/sample_data/hdfc_brsr.pdf\"\n",
        "  with open(pdf_path, 'rb') as infile:\n",
        "      reader = PdfReader(infile)\n",
        "      writer = PdfWriter()\n",
        "      writer.add_page(reader.pages[i])\n",
        "      with open('output.pdf', 'wb') as outfile:\n",
        "          writer.write(outfile)\n",
        "\n",
        "  # Specify the path to your PDF file\n",
        "  pdf_path = '/content/drive/MyDrive/Colab Notebooks/sample_data/output.pdf'\n",
        "\n",
        "  # Use camelot with the 'lattice' flavor\n",
        "  tables = camelot.read_pdf(pdf_path, flavor='lattice')\n",
        "\n",
        "  # Iterate over the tables extracted using the 'lattice' flavor\n",
        "  c = 0\n",
        "  print(\"On page no. \",i)\n",
        "  dname = '/content/drive/MyDrive/Colab Notebooks/sample_data/section_b' + '/page_' + str(i) + '_tables'\n",
        "  if path.exists(dname) == False:\n",
        "    os.mkdir(dname)\n",
        "\n",
        "  os.chdir(dname)\n",
        "  for table in tables:\n",
        "      c += 1\n",
        "      df = table.df\n",
        "      df.to_csv('table_' + str(c) + '.csv',index=False)\n",
        "  print(\"Extracted no. of tables = \",tables.n)\n",
        "\n",
        "  # tables_stream = camelot.read_pdf(pdf_path, flavor='stream')\n",
        "  # print(tables_stream.n)\n",
        "\n",
        "\n",
        "# For section C\n",
        "for i in range(sec_c_pg[0],sec_c_pg[1]):\n",
        "  os.chdir('/content/drive/MyDrive/Colab Notebooks/sample_data/')\n",
        "  print(i)\n",
        "  !pwd\n",
        "  pdf_path = \"/content/drive/MyDrive/Colab Notebooks/sample_data/hdfc_brsr.pdf\"\n",
        "  with open(pdf_path, 'rb') as infile:\n",
        "      reader = PdfReader(infile)\n",
        "      writer = PdfWriter()\n",
        "      writer.add_page(reader.pages[i])\n",
        "      with open('output.pdf', 'wb') as outfile:\n",
        "          writer.write(outfile)\n",
        "\n",
        "  # Specify the path to your PDF file\n",
        "  pdf_path = '/content/drive/MyDrive/Colab Notebooks/sample_data/output.pdf'\n",
        "\n",
        "  # Use camelot with the 'lattice' flavor\n",
        "  tables = camelot.read_pdf(pdf_path, flavor='lattice')\n",
        "\n",
        "  # Iterate over the tables extracted using the 'lattice' flavor\n",
        "  c = 0\n",
        "  print(\"On page no. \",i)\n",
        "  dname = '/content/drive/MyDrive/Colab Notebooks/sample_data/section_c' + '/page_' + str(i) + '_tables'\n",
        "  if path.exists(dname) == False:\n",
        "    os.mkdir(dname)\n",
        "\n",
        "  os.chdir(dname)\n",
        "  for table in tables:\n",
        "      c += 1\n",
        "      df = table.df\n",
        "      df.to_csv('table_' + str(c) + '.csv',index=False)\n",
        "  print(\"Extracted no. of tables = \",tables.n)\n",
        "\n",
        "  # tables_stream = camelot.read_pdf(pdf_path, flavor='stream')\n",
        "  # print(tables_stream.n)\n",
        "\n"
      ],
      "metadata": {
        "colab": {
          "base_uri": "https://localhost:8080/"
        },
        "id": "mUb4CGq6zrBd",
        "outputId": "22ec6c06-fc91-4d3f-dcda-67cc2f821564"
      },
      "execution_count": 28,
      "outputs": [
        {
          "output_type": "stream",
          "name": "stdout",
          "text": [
            "3\n",
            "/content/drive/MyDrive/Colab Notebooks/sample_data\n",
            "On page no.  3\n",
            "Extracted no. of tables =  2\n",
            "4\n",
            "/content/drive/MyDrive/Colab Notebooks/sample_data\n",
            "On page no.  4\n",
            "Extracted no. of tables =  2\n",
            "5\n",
            "/content/drive/MyDrive/Colab Notebooks/sample_data\n",
            "On page no.  5\n",
            "Extracted no. of tables =  4\n",
            "6\n",
            "/content/drive/MyDrive/Colab Notebooks/sample_data\n",
            "On page no.  6\n",
            "Extracted no. of tables =  1\n",
            "7\n",
            "/content/drive/MyDrive/Colab Notebooks/sample_data\n",
            "On page no.  7\n",
            "Extracted no. of tables =  1\n",
            "8\n",
            "/content/drive/MyDrive/Colab Notebooks/sample_data\n",
            "On page no.  8\n",
            "Extracted no. of tables =  1\n",
            "9\n",
            "/content/drive/MyDrive/Colab Notebooks/sample_data\n",
            "On page no.  9\n",
            "Extracted no. of tables =  2\n",
            "10\n",
            "/content/drive/MyDrive/Colab Notebooks/sample_data\n",
            "On page no.  10\n",
            "Extracted no. of tables =  1\n",
            "11\n",
            "/content/drive/MyDrive/Colab Notebooks/sample_data\n",
            "On page no.  11\n",
            "Extracted no. of tables =  1\n",
            "12\n",
            "/content/drive/MyDrive/Colab Notebooks/sample_data\n",
            "On page no.  12\n",
            "Extracted no. of tables =  2\n",
            "13\n",
            "/content/drive/MyDrive/Colab Notebooks/sample_data\n",
            "On page no.  13\n",
            "Extracted no. of tables =  1\n",
            "14\n",
            "/content/drive/MyDrive/Colab Notebooks/sample_data\n",
            "On page no.  14\n",
            "Extracted no. of tables =  2\n",
            "15\n",
            "/content/drive/MyDrive/Colab Notebooks/sample_data\n",
            "On page no.  15\n",
            "Extracted no. of tables =  1\n",
            "16\n",
            "/content/drive/MyDrive/Colab Notebooks/sample_data\n",
            "On page no.  16\n",
            "Extracted no. of tables =  0\n",
            "17\n",
            "/content/drive/MyDrive/Colab Notebooks/sample_data\n",
            "On page no.  17\n",
            "Extracted no. of tables =  0\n",
            "18\n",
            "/content/drive/MyDrive/Colab Notebooks/sample_data\n",
            "On page no.  18\n",
            "Extracted no. of tables =  2\n",
            "19\n",
            "/content/drive/MyDrive/Colab Notebooks/sample_data\n",
            "On page no.  19\n",
            "Extracted no. of tables =  2\n",
            "20\n",
            "/content/drive/MyDrive/Colab Notebooks/sample_data\n",
            "On page no.  20\n",
            "Extracted no. of tables =  1\n",
            "21\n",
            "/content/drive/MyDrive/Colab Notebooks/sample_data\n",
            "On page no.  21\n",
            "Extracted no. of tables =  3\n",
            "22\n",
            "/content/drive/MyDrive/Colab Notebooks/sample_data\n",
            "On page no.  22\n",
            "Extracted no. of tables =  2\n",
            "23\n",
            "/content/drive/MyDrive/Colab Notebooks/sample_data\n",
            "On page no.  23\n",
            "Extracted no. of tables =  1\n",
            "24\n",
            "/content/drive/MyDrive/Colab Notebooks/sample_data\n",
            "On page no.  24\n",
            "Extracted no. of tables =  0\n",
            "25\n",
            "/content/drive/MyDrive/Colab Notebooks/sample_data\n",
            "On page no.  25\n",
            "Extracted no. of tables =  3\n",
            "26\n",
            "/content/drive/MyDrive/Colab Notebooks/sample_data\n",
            "On page no.  26\n",
            "Extracted no. of tables =  1\n",
            "27\n",
            "/content/drive/MyDrive/Colab Notebooks/sample_data\n",
            "On page no.  27\n",
            "Extracted no. of tables =  2\n",
            "28\n",
            "/content/drive/MyDrive/Colab Notebooks/sample_data\n",
            "On page no.  28\n",
            "Extracted no. of tables =  2\n",
            "29\n",
            "/content/drive/MyDrive/Colab Notebooks/sample_data\n",
            "On page no.  29\n",
            "Extracted no. of tables =  4\n",
            "30\n",
            "/content/drive/MyDrive/Colab Notebooks/sample_data\n",
            "On page no.  30\n",
            "Extracted no. of tables =  1\n",
            "31\n",
            "/content/drive/MyDrive/Colab Notebooks/sample_data\n",
            "On page no.  31\n",
            "Extracted no. of tables =  1\n",
            "32\n",
            "/content/drive/MyDrive/Colab Notebooks/sample_data\n",
            "On page no.  32\n",
            "Extracted no. of tables =  1\n",
            "33\n",
            "/content/drive/MyDrive/Colab Notebooks/sample_data\n",
            "On page no.  33\n",
            "Extracted no. of tables =  1\n",
            "34\n",
            "/content/drive/MyDrive/Colab Notebooks/sample_data\n",
            "On page no.  34\n",
            "Extracted no. of tables =  1\n",
            "35\n",
            "/content/drive/MyDrive/Colab Notebooks/sample_data\n",
            "On page no.  35\n",
            "Extracted no. of tables =  1\n",
            "36\n",
            "/content/drive/MyDrive/Colab Notebooks/sample_data\n",
            "On page no.  36\n",
            "Extracted no. of tables =  0\n",
            "37\n",
            "/content/drive/MyDrive/Colab Notebooks/sample_data\n",
            "On page no.  37\n",
            "Extracted no. of tables =  0\n"
          ]
        }
      ]
    },
    {
      "cell_type": "markdown",
      "source": [
        "\n",
        "# **Extraction of Tables principles wise**"
      ],
      "metadata": {
        "id": "VGyCwNDG7lWZ"
      }
    },
    {
      "cell_type": "code",
      "source": [
        "principles = [\"BUSINESSES SHOULD CONDUCT AND GOVERN THEMSELVES\",\n",
        "              \"BUSINESSES SHOULD PROVIDE GOODS AND SERVICES\",\n",
        "              \"BUSINESSES SHOULD RESPECT AND PROMOTE THE WELL-BEING OF ALL\",\n",
        "              \"BUSINESSES SHOULD RESPECT THE INTERESTS OF AND BE RESPONSIVE TO ALL\",\n",
        "              \"BUSINESSES SHOULD RESPECT AND PROMOTE HUMAN RIGHTS\",\n",
        "              \"BUSINESSES SHOULD RESPECT AND MAKE EFFORTS TO PROTECT AND RESTORE\",\n",
        "              \"BUSINESSES, WHEN ENGAGING IN INFLUENCING PUBLIC AND REGULATORY\",\n",
        "              \"BUSINESSES SHOULD PROMOTE INCLUSIVE GROWTH AND EQUITABLE\",\n",
        "              \"BUSINESSES SHOULD ENGAGE WITH AND PROVIDE VALUE TO THEIR\"]"
      ],
      "metadata": {
        "id": "Gn3xBjCa7vfZ"
      },
      "execution_count": 29,
      "outputs": []
    },
    {
      "cell_type": "code",
      "source": [
        "file_path = \"/content/drive/MyDrive/Colab Notebooks/sample_data/hdfc_brsr.pdf\"\n",
        "pdf_file = open(file_path,\"rb\")\n",
        "reader = PdfReader(pdf_file, strict=False)\n",
        "num_pages = len(reader.pages)\n",
        "print(num_pages)\n",
        "def fnPDF_FindText(xString, startPage):\n",
        "    # xfile : the PDF file in which to look\n",
        "    # xString : the string to look for\n",
        "    import re\n",
        "    PageFound = -1\n",
        "    #pdfDoc = PdfFileReader(file(xFile, \"rb\"))\n",
        "    for i in range(startPage, num_pages):\n",
        "        PgOb =  reader.pages[i]\n",
        "        Text = PgOb.extract_text()\n",
        "        if re.search(xString,Text):\n",
        "             print(\"String - \"+xString+\", found on Page: \"+str(i))\n",
        "             PageFound = i\n",
        "             return PageFound"
      ],
      "metadata": {
        "colab": {
          "base_uri": "https://localhost:8080/"
        },
        "id": "C2wjhmMo9IIu",
        "outputId": "a1558280-0a1e-4b84-aa5b-73370f5566d3"
      },
      "execution_count": 33,
      "outputs": [
        {
          "output_type": "stream",
          "name": "stdout",
          "text": [
            "38\n"
          ]
        }
      ]
    },
    {
      "cell_type": "code",
      "source": [
        "## Get All Pages for each Principle\n",
        "# Principle length list - principle\n",
        "principal_pages = []\n",
        "principal_pages.append(4)\n",
        "for i in range(0,len(principles)):\n",
        "\n",
        "    start_search_string = principles[i]\n",
        "    print('Start Search for Principle '+ str(i) + ' : ' + start_search_string)\n",
        "    start_page = fnPDF_FindText(start_search_string,principal_pages[i])\n",
        "    print(start_page)\n",
        "    principal_pages.append(start_page)\n",
        "\n",
        "principal_pages.remove(4)\n",
        "principal_pages.append(num_pages)\n",
        "#remove duplicates\n",
        "principal_pages = [*set(principal_pages)]\n",
        "#sort in ascending order\n",
        "principal_pages.sort()\n",
        "print(principal_pages)"
      ],
      "metadata": {
        "colab": {
          "base_uri": "https://localhost:8080/"
        },
        "id": "HHgesiZm79fT",
        "outputId": "b7091d6a-63c8-4ad7-aaf8-1da0bb462c13"
      },
      "execution_count": 37,
      "outputs": [
        {
          "output_type": "stream",
          "name": "stdout",
          "text": [
            "Start Search for Principle 0 : BUSINESSES SHOULD CONDUCT AND GOVERN THEMSELVES\n",
            "String - BUSINESSES SHOULD CONDUCT AND GOVERN THEMSELVES, found on Page: 13\n",
            "13\n",
            "Start Search for Principle 1 : BUSINESSES SHOULD PROVIDE GOODS AND SERVICES\n",
            "String - BUSINESSES SHOULD PROVIDE GOODS AND SERVICES, found on Page: 16\n",
            "16\n",
            "Start Search for Principle 2 : BUSINESSES SHOULD RESPECT AND PROMOTE THE WELL-BEING OF ALL\n",
            "String - BUSINESSES SHOULD RESPECT AND PROMOTE THE WELL-BEING OF ALL, found on Page: 18\n",
            "18\n",
            "Start Search for Principle 3 : BUSINESSES SHOULD RESPECT THE INTERESTS OF AND BE RESPONSIVE TO ALL\n",
            "String - BUSINESSES SHOULD RESPECT THE INTERESTS OF AND BE RESPONSIVE TO ALL, found on Page: 23\n",
            "23\n",
            "Start Search for Principle 4 : BUSINESSES SHOULD RESPECT AND PROMOTE HUMAN RIGHTS\n",
            "String - BUSINESSES SHOULD RESPECT AND PROMOTE HUMAN RIGHTS, found on Page: 25\n",
            "25\n",
            "Start Search for Principle 5 : BUSINESSES SHOULD RESPECT AND MAKE EFFORTS TO PROTECT AND RESTORE\n",
            "String - BUSINESSES SHOULD RESPECT AND MAKE EFFORTS TO PROTECT AND RESTORE, found on Page: 28\n",
            "28\n",
            "Start Search for Principle 6 : BUSINESSES, WHEN ENGAGING IN INFLUENCING PUBLIC AND REGULATORY\n",
            "String - BUSINESSES, WHEN ENGAGING IN INFLUENCING PUBLIC AND REGULATORY, found on Page: 32\n",
            "32\n",
            "Start Search for Principle 7 : BUSINESSES SHOULD PROMOTE INCLUSIVE GROWTH AND EQUITABLE\n",
            "String - BUSINESSES SHOULD PROMOTE INCLUSIVE GROWTH AND EQUITABLE, found on Page: 33\n",
            "33\n",
            "Start Search for Principle 8 : BUSINESSES SHOULD ENGAGE WITH AND PROVIDE VALUE TO THEIR\n",
            "String - BUSINESSES SHOULD ENGAGE WITH AND PROVIDE VALUE TO THEIR, found on Page: 35\n",
            "35\n",
            "[13, 16, 18, 23, 25, 28, 32, 33, 35, 38]\n"
          ]
        }
      ]
    },
    {
      "cell_type": "code",
      "source": [
        "# Create Directories\n",
        "import os.path\n",
        "from os import path\n",
        "\n",
        "if path.exists('/content/drive/MyDrive/Colab Notebooks/sample_data/principle_tables') == False:\n",
        "  os.mkdir('/content/drive/MyDrive/Colab Notebooks/sample_data/principle_tables')\n",
        "\n",
        "os.chdir('/content/drive/MyDrive/Colab Notebooks/sample_data/principle_tables')\n",
        "!pwd\n",
        "!ls"
      ],
      "metadata": {
        "colab": {
          "base_uri": "https://localhost:8080/"
        },
        "id": "76JjTo0X-6NF",
        "outputId": "7d82c04d-d8cf-482b-d221-9387282dc167"
      },
      "execution_count": 47,
      "outputs": [
        {
          "output_type": "stream",
          "name": "stdout",
          "text": [
            "/content/drive/MyDrive/Colab Notebooks/sample_data/principle_tables\n"
          ]
        }
      ]
    },
    {
      "cell_type": "code",
      "source": [
        "# Do table parsing for all pages in each Principle\n",
        "\n",
        "import camelot\n",
        "import os\n",
        "from PyPDF2 import PdfReader , PdfWriter\n",
        "# Set the path to the Ghostscript executable\n",
        "ghostscript_path = '/usr/bin/gs'\n",
        "# Set the Ghostscript path in the environment variable\n",
        "os.environ['CAMELOT_GHOSTSCRIPT_PATH'] = ghostscript_path\n",
        "pdf_path = \"/content/drive/MyDrive/Colab Notebooks/sample_data/hdfc_brsr.pdf\"\n",
        "pdf = PdfReader(pdf_path)\n",
        "\n",
        "# For section A\n",
        "for i in range(len(principal_pages)-1):\n",
        "\n",
        "  dname = '/content/drive/MyDrive/Colab Notebooks/sample_data/principle_tables' + '/Principle_' + str(i+1) + '_tables'\n",
        "  c = 0\n",
        "  for j in range(principal_pages[i],principal_pages[i+1]):\n",
        "      print(j)\n",
        "      os.chdir('/content/drive/MyDrive/Colab Notebooks/sample_data/')\n",
        "      print(j)\n",
        "      !pwd\n",
        "      pdf_path = \"/content/drive/MyDrive/Colab Notebooks/sample_data/hdfc_brsr.pdf\"\n",
        "      with open(pdf_path, 'rb') as infile:\n",
        "          reader = PdfReader(infile)\n",
        "          writer = PdfWriter()\n",
        "          writer.add_page(reader.pages[j])\n",
        "          with open('output.pdf', 'wb') as outfile:\n",
        "              writer.write(outfile)\n",
        "\n",
        "      # Specify the path to your PDF file\n",
        "      pdf_path = '/content/drive/MyDrive/Colab Notebooks/sample_data/output.pdf'\n",
        "\n",
        "      # Use camelot with the 'lattice' flavor\n",
        "      tables = camelot.read_pdf(pdf_path, flavor='lattice')\n",
        "      if path.exists(dname) == False:\n",
        "        os.mkdir(dname)\n",
        "      os.chdir(dname)\n",
        "      # Iterate over the tables extracted using the 'lattice' flavor\n",
        "      print(\"On page no. \",j)\n",
        "      os.chdir(dname)\n",
        "      for table in tables:\n",
        "          c += 1\n",
        "          df = table.df\n",
        "          df.to_csv('table_' + str(c) + '.csv',index=False)\n",
        "      print(\"Extracted no. of tables = \",tables.n)\n",
        "\n",
        "  # tables_stream = camelot.read_pdf(pdf_path, flavor='stream')\n",
        "  # print(tables_stream.n)\n"
      ],
      "metadata": {
        "colab": {
          "base_uri": "https://localhost:8080/"
        },
        "id": "Mwi548E2-Xs0",
        "outputId": "15501017-0596-4634-d696-fd45c829cd1f"
      },
      "execution_count": 48,
      "outputs": [
        {
          "output_type": "stream",
          "name": "stdout",
          "text": [
            "13\n",
            "13\n",
            "/content/drive/MyDrive/Colab Notebooks/sample_data\n",
            "On page no.  13\n",
            "Extracted no. of tables =  1\n",
            "14\n",
            "14\n",
            "/content/drive/MyDrive/Colab Notebooks/sample_data\n",
            "On page no.  14\n",
            "Extracted no. of tables =  2\n",
            "15\n",
            "15\n",
            "/content/drive/MyDrive/Colab Notebooks/sample_data\n",
            "On page no.  15\n",
            "Extracted no. of tables =  1\n",
            "16\n",
            "16\n",
            "/content/drive/MyDrive/Colab Notebooks/sample_data\n",
            "On page no.  16\n",
            "Extracted no. of tables =  0\n",
            "17\n",
            "17\n",
            "/content/drive/MyDrive/Colab Notebooks/sample_data\n",
            "On page no.  17\n",
            "Extracted no. of tables =  0\n",
            "18\n",
            "18\n",
            "/content/drive/MyDrive/Colab Notebooks/sample_data\n",
            "On page no.  18\n",
            "Extracted no. of tables =  2\n",
            "19\n",
            "19\n",
            "/content/drive/MyDrive/Colab Notebooks/sample_data\n",
            "On page no.  19\n",
            "Extracted no. of tables =  2\n",
            "20\n",
            "20\n",
            "/content/drive/MyDrive/Colab Notebooks/sample_data\n",
            "On page no.  20\n",
            "Extracted no. of tables =  1\n",
            "21\n",
            "21\n",
            "/content/drive/MyDrive/Colab Notebooks/sample_data\n",
            "On page no.  21\n",
            "Extracted no. of tables =  3\n",
            "22\n",
            "22\n",
            "/content/drive/MyDrive/Colab Notebooks/sample_data\n",
            "On page no.  22\n",
            "Extracted no. of tables =  2\n",
            "23\n",
            "23\n",
            "/content/drive/MyDrive/Colab Notebooks/sample_data\n",
            "On page no.  23\n",
            "Extracted no. of tables =  1\n",
            "24\n",
            "24\n",
            "/content/drive/MyDrive/Colab Notebooks/sample_data\n",
            "On page no.  24\n",
            "Extracted no. of tables =  0\n",
            "25\n",
            "25\n",
            "/content/drive/MyDrive/Colab Notebooks/sample_data\n",
            "On page no.  25\n",
            "Extracted no. of tables =  3\n",
            "26\n",
            "26\n",
            "/content/drive/MyDrive/Colab Notebooks/sample_data\n",
            "On page no.  26\n",
            "Extracted no. of tables =  1\n",
            "27\n",
            "27\n",
            "/content/drive/MyDrive/Colab Notebooks/sample_data\n",
            "On page no.  27\n",
            "Extracted no. of tables =  2\n",
            "28\n",
            "28\n",
            "/content/drive/MyDrive/Colab Notebooks/sample_data\n",
            "On page no.  28\n",
            "Extracted no. of tables =  2\n",
            "29\n",
            "29\n",
            "/content/drive/MyDrive/Colab Notebooks/sample_data\n",
            "On page no.  29\n",
            "Extracted no. of tables =  4\n",
            "30\n",
            "30\n",
            "/content/drive/MyDrive/Colab Notebooks/sample_data\n",
            "On page no.  30\n",
            "Extracted no. of tables =  1\n",
            "31\n",
            "31\n",
            "/content/drive/MyDrive/Colab Notebooks/sample_data\n",
            "On page no.  31\n",
            "Extracted no. of tables =  1\n",
            "32\n",
            "32\n",
            "/content/drive/MyDrive/Colab Notebooks/sample_data\n",
            "On page no.  32\n",
            "Extracted no. of tables =  1\n",
            "33\n",
            "33\n",
            "/content/drive/MyDrive/Colab Notebooks/sample_data\n",
            "On page no.  33\n",
            "Extracted no. of tables =  1\n",
            "34\n",
            "34\n",
            "/content/drive/MyDrive/Colab Notebooks/sample_data\n",
            "On page no.  34\n",
            "Extracted no. of tables =  1\n",
            "35\n",
            "35\n",
            "/content/drive/MyDrive/Colab Notebooks/sample_data\n",
            "On page no.  35\n",
            "Extracted no. of tables =  1\n",
            "36\n",
            "36\n",
            "/content/drive/MyDrive/Colab Notebooks/sample_data\n",
            "On page no.  36\n",
            "Extracted no. of tables =  0\n",
            "37\n",
            "37\n",
            "/content/drive/MyDrive/Colab Notebooks/sample_data\n",
            "On page no.  37\n",
            "Extracted no. of tables =  0\n"
          ]
        }
      ]
    }
  ]
}