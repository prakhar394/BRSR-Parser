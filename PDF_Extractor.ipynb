{
  "nbformat": 4,
  "nbformat_minor": 0,
  "metadata": {
    "colab": {
      "provenance": []
    },
    "kernelspec": {
      "name": "python3",
      "display_name": "Python 3"
    },
    "language_info": {
      "name": "python"
    }
  },
  "cells": [
    {
      "cell_type": "code",
      "execution_count": 98,
      "metadata": {
        "colab": {
          "base_uri": "https://localhost:8080/"
        },
        "id": "q42qQbcOisQ6",
        "outputId": "556643ef-654a-4857-8897-e3fc8beac193"
      },
      "outputs": [
        {
          "output_type": "stream",
          "name": "stdout",
          "text": [
            "Looking in indexes: https://pypi.org/simple, https://us-python.pkg.dev/colab-wheels/public/simple/\n",
            "Requirement already satisfied: pandas in /usr/local/lib/python3.10/dist-packages (1.5.3)\n",
            "Requirement already satisfied: python-dateutil>=2.8.1 in /usr/local/lib/python3.10/dist-packages (from pandas) (2.8.2)\n",
            "Requirement already satisfied: pytz>=2020.1 in /usr/local/lib/python3.10/dist-packages (from pandas) (2022.7.1)\n",
            "Requirement already satisfied: numpy>=1.21.0 in /usr/local/lib/python3.10/dist-packages (from pandas) (1.22.4)\n",
            "Requirement already satisfied: six>=1.5 in /usr/local/lib/python3.10/dist-packages (from python-dateutil>=2.8.1->pandas) (1.16.0)\n"
          ]
        }
      ],
      "source": [
        "pip install pandas"
      ]
    },
    {
      "cell_type": "code",
      "source": [
        "pip install camelot-py"
      ],
      "metadata": {
        "colab": {
          "base_uri": "https://localhost:8080/"
        },
        "id": "CYwmyZNLi1nm",
        "outputId": "ebde8326-609a-4845-9ba0-e51e41be1152"
      },
      "execution_count": 99,
      "outputs": [
        {
          "output_type": "stream",
          "name": "stdout",
          "text": [
            "Looking in indexes: https://pypi.org/simple, https://us-python.pkg.dev/colab-wheels/public/simple/\n",
            "Requirement already satisfied: camelot-py in /usr/local/lib/python3.10/dist-packages (0.11.0)\n",
            "Requirement already satisfied: chardet>=3.0.4 in /usr/local/lib/python3.10/dist-packages (from camelot-py) (4.0.0)\n",
            "Requirement already satisfied: click>=6.7 in /usr/local/lib/python3.10/dist-packages (from camelot-py) (8.1.3)\n",
            "Requirement already satisfied: numpy>=1.13.3 in /usr/local/lib/python3.10/dist-packages (from camelot-py) (1.22.4)\n",
            "Requirement already satisfied: openpyxl>=2.5.8 in /usr/local/lib/python3.10/dist-packages (from camelot-py) (3.0.10)\n",
            "Requirement already satisfied: pandas>=0.23.4 in /usr/local/lib/python3.10/dist-packages (from camelot-py) (1.5.3)\n",
            "Requirement already satisfied: pdfminer.six>=20200726 in /usr/local/lib/python3.10/dist-packages (from camelot-py) (20221105)\n",
            "Requirement already satisfied: pypdf>=3.0.0 in /usr/local/lib/python3.10/dist-packages (from camelot-py) (3.9.1)\n",
            "Requirement already satisfied: tabulate>=0.8.9 in /usr/local/lib/python3.10/dist-packages (from camelot-py) (0.8.10)\n",
            "Requirement already satisfied: et-xmlfile in /usr/local/lib/python3.10/dist-packages (from openpyxl>=2.5.8->camelot-py) (1.1.0)\n",
            "Requirement already satisfied: python-dateutil>=2.8.1 in /usr/local/lib/python3.10/dist-packages (from pandas>=0.23.4->camelot-py) (2.8.2)\n",
            "Requirement already satisfied: pytz>=2020.1 in /usr/local/lib/python3.10/dist-packages (from pandas>=0.23.4->camelot-py) (2022.7.1)\n",
            "Requirement already satisfied: charset-normalizer>=2.0.0 in /usr/local/lib/python3.10/dist-packages (from pdfminer.six>=20200726->camelot-py) (2.0.12)\n",
            "Requirement already satisfied: cryptography>=36.0.0 in /usr/local/lib/python3.10/dist-packages (from pdfminer.six>=20200726->camelot-py) (40.0.2)\n",
            "Requirement already satisfied: cffi>=1.12 in /usr/local/lib/python3.10/dist-packages (from cryptography>=36.0.0->pdfminer.six>=20200726->camelot-py) (1.15.1)\n",
            "Requirement already satisfied: six>=1.5 in /usr/local/lib/python3.10/dist-packages (from python-dateutil>=2.8.1->pandas>=0.23.4->camelot-py) (1.16.0)\n",
            "Requirement already satisfied: pycparser in /usr/local/lib/python3.10/dist-packages (from cffi>=1.12->cryptography>=36.0.0->pdfminer.six>=20200726->camelot-py) (2.21)\n"
          ]
        }
      ]
    },
    {
      "cell_type": "code",
      "source": [
        "pip install ghostscript"
      ],
      "metadata": {
        "colab": {
          "base_uri": "https://localhost:8080/"
        },
        "id": "wlyxtvrRj4ct",
        "outputId": "fd89c070-2a75-4506-b7d9-706598985e58"
      },
      "execution_count": 100,
      "outputs": [
        {
          "output_type": "stream",
          "name": "stdout",
          "text": [
            "Looking in indexes: https://pypi.org/simple, https://us-python.pkg.dev/colab-wheels/public/simple/\n",
            "Collecting ghostscript\n",
            "  Downloading ghostscript-0.7-py2.py3-none-any.whl (25 kB)\n",
            "Requirement already satisfied: setuptools>=38.6.0 in /usr/local/lib/python3.10/dist-packages (from ghostscript) (67.7.2)\n",
            "Installing collected packages: ghostscript\n",
            "Successfully installed ghostscript-0.7\n"
          ]
        }
      ]
    },
    {
      "cell_type": "code",
      "source": [
        "!which gs"
      ],
      "metadata": {
        "id": "tbVSf3NLlIv4"
      },
      "execution_count": 101,
      "outputs": []
    },
    {
      "cell_type": "code",
      "source": [
        "!sudo apt install ghostscript python3-tk"
      ],
      "metadata": {
        "colab": {
          "base_uri": "https://localhost:8080/"
        },
        "id": "h3pcFqf1kE54",
        "outputId": "0d25f732-2e7d-4ae0-dcf0-501581469c7c"
      },
      "execution_count": 102,
      "outputs": [
        {
          "output_type": "stream",
          "name": "stdout",
          "text": [
            "Reading package lists... Done\n",
            "Building dependency tree       \n",
            "Reading state information... Done\n",
            "The following additional packages will be installed:\n",
            "  blt fonts-droid-fallback fonts-noto-mono fonts-urw-base35 libgs9\n",
            "  libgs9-common libidn11 libijs-0.35 libjbig2dec0 poppler-data tk8.6-blt2.5\n",
            "Suggested packages:\n",
            "  blt-demo fonts-noto fonts-freefont-otf | fonts-freefont-ttf fonts-texgyre\n",
            "  ghostscript-x poppler-utils fonts-japanese-mincho | fonts-ipafont-mincho\n",
            "  fonts-japanese-gothic | fonts-ipafont-gothic fonts-arphic-ukai\n",
            "  fonts-arphic-uming fonts-nanum tix python3-tk-dbg\n",
            "The following NEW packages will be installed:\n",
            "  blt fonts-droid-fallback fonts-noto-mono fonts-urw-base35 ghostscript libgs9\n",
            "  libgs9-common libidn11 libijs-0.35 libjbig2dec0 poppler-data python3-tk\n",
            "  tk8.6-blt2.5\n",
            "0 upgraded, 13 newly installed, 0 to remove and 15 not upgraded.\n",
            "Need to get 13.4 MB of archives.\n",
            "After this operation, 54.8 MB of additional disk space will be used.\n",
            "Get:1 http://archive.ubuntu.com/ubuntu focal/main amd64 fonts-droid-fallback all 1:6.0.1r16-1.1 [1,805 kB]\n",
            "Get:2 http://archive.ubuntu.com/ubuntu focal/main amd64 poppler-data all 0.4.9-2 [1,475 kB]\n",
            "Get:3 http://archive.ubuntu.com/ubuntu focal/main amd64 tk8.6-blt2.5 amd64 2.5.3+dfsg-4 [572 kB]\n",
            "Get:4 http://archive.ubuntu.com/ubuntu focal/main amd64 blt amd64 2.5.3+dfsg-4 [4,944 B]\n",
            "Get:5 http://archive.ubuntu.com/ubuntu focal-updates/main amd64 fonts-noto-mono all 20200323-1build1~ubuntu20.04.1 [80.6 kB]\n",
            "Get:6 http://archive.ubuntu.com/ubuntu focal/main amd64 fonts-urw-base35 all 20170801.1-3 [6,333 kB]\n",
            "Get:7 http://archive.ubuntu.com/ubuntu focal-updates/main amd64 libgs9-common all 9.50~dfsg-5ubuntu4.7 [681 kB]\n",
            "Get:8 http://archive.ubuntu.com/ubuntu focal/main amd64 libidn11 amd64 1.33-2.2ubuntu2 [46.2 kB]\n",
            "Get:9 http://archive.ubuntu.com/ubuntu focal/main amd64 libijs-0.35 amd64 0.35-15 [15.7 kB]\n",
            "Get:10 http://archive.ubuntu.com/ubuntu focal/main amd64 libjbig2dec0 amd64 0.18-1ubuntu1 [60.0 kB]\n",
            "Get:11 http://archive.ubuntu.com/ubuntu focal-updates/main amd64 libgs9 amd64 9.50~dfsg-5ubuntu4.7 [2,173 kB]\n",
            "Get:12 http://archive.ubuntu.com/ubuntu focal-updates/main amd64 ghostscript amd64 9.50~dfsg-5ubuntu4.7 [51.9 kB]\n",
            "Get:13 http://archive.ubuntu.com/ubuntu focal-updates/main amd64 python3-tk amd64 3.8.10-0ubuntu1~20.04 [104 kB]\n",
            "Fetched 13.4 MB in 1s (9,355 kB/s)\n",
            "debconf: unable to initialize frontend: Dialog\n",
            "debconf: (No usable dialog-like program is installed, so the dialog based frontend cannot be used. at /usr/share/perl5/Debconf/FrontEnd/Dialog.pm line 76, <> line 13.)\n",
            "debconf: falling back to frontend: Readline\n",
            "debconf: unable to initialize frontend: Readline\n",
            "debconf: (This frontend requires a controlling tty.)\n",
            "debconf: falling back to frontend: Teletype\n",
            "dpkg-preconfigure: unable to re-open stdin: \n",
            "Selecting previously unselected package fonts-droid-fallback.\n",
            "(Reading database ... 123069 files and directories currently installed.)\n",
            "Preparing to unpack .../00-fonts-droid-fallback_1%3a6.0.1r16-1.1_all.deb ...\n",
            "Unpacking fonts-droid-fallback (1:6.0.1r16-1.1) ...\n",
            "Selecting previously unselected package poppler-data.\n",
            "Preparing to unpack .../01-poppler-data_0.4.9-2_all.deb ...\n",
            "Unpacking poppler-data (0.4.9-2) ...\n",
            "Selecting previously unselected package tk8.6-blt2.5.\n",
            "Preparing to unpack .../02-tk8.6-blt2.5_2.5.3+dfsg-4_amd64.deb ...\n",
            "Unpacking tk8.6-blt2.5 (2.5.3+dfsg-4) ...\n",
            "Selecting previously unselected package blt.\n",
            "Preparing to unpack .../03-blt_2.5.3+dfsg-4_amd64.deb ...\n",
            "Unpacking blt (2.5.3+dfsg-4) ...\n",
            "Selecting previously unselected package fonts-noto-mono.\n",
            "Preparing to unpack .../04-fonts-noto-mono_20200323-1build1~ubuntu20.04.1_all.deb ...\n",
            "Unpacking fonts-noto-mono (20200323-1build1~ubuntu20.04.1) ...\n",
            "Selecting previously unselected package fonts-urw-base35.\n",
            "Preparing to unpack .../05-fonts-urw-base35_20170801.1-3_all.deb ...\n",
            "Unpacking fonts-urw-base35 (20170801.1-3) ...\n",
            "Selecting previously unselected package libgs9-common.\n",
            "Preparing to unpack .../06-libgs9-common_9.50~dfsg-5ubuntu4.7_all.deb ...\n",
            "Unpacking libgs9-common (9.50~dfsg-5ubuntu4.7) ...\n",
            "Selecting previously unselected package libidn11:amd64.\n",
            "Preparing to unpack .../07-libidn11_1.33-2.2ubuntu2_amd64.deb ...\n",
            "Unpacking libidn11:amd64 (1.33-2.2ubuntu2) ...\n",
            "Selecting previously unselected package libijs-0.35:amd64.\n",
            "Preparing to unpack .../08-libijs-0.35_0.35-15_amd64.deb ...\n",
            "Unpacking libijs-0.35:amd64 (0.35-15) ...\n",
            "Selecting previously unselected package libjbig2dec0:amd64.\n",
            "Preparing to unpack .../09-libjbig2dec0_0.18-1ubuntu1_amd64.deb ...\n",
            "Unpacking libjbig2dec0:amd64 (0.18-1ubuntu1) ...\n",
            "Selecting previously unselected package libgs9:amd64.\n",
            "Preparing to unpack .../10-libgs9_9.50~dfsg-5ubuntu4.7_amd64.deb ...\n",
            "Unpacking libgs9:amd64 (9.50~dfsg-5ubuntu4.7) ...\n",
            "Selecting previously unselected package ghostscript.\n",
            "Preparing to unpack .../11-ghostscript_9.50~dfsg-5ubuntu4.7_amd64.deb ...\n",
            "Unpacking ghostscript (9.50~dfsg-5ubuntu4.7) ...\n",
            "Selecting previously unselected package python3-tk:amd64.\n",
            "Preparing to unpack .../12-python3-tk_3.8.10-0ubuntu1~20.04_amd64.deb ...\n",
            "Unpacking python3-tk:amd64 (3.8.10-0ubuntu1~20.04) ...\n",
            "Setting up tk8.6-blt2.5 (2.5.3+dfsg-4) ...\n",
            "Setting up fonts-noto-mono (20200323-1build1~ubuntu20.04.1) ...\n",
            "Setting up libijs-0.35:amd64 (0.35-15) ...\n",
            "Setting up blt (2.5.3+dfsg-4) ...\n",
            "Setting up python3-tk:amd64 (3.8.10-0ubuntu1~20.04) ...\n",
            "Setting up fonts-urw-base35 (20170801.1-3) ...\n",
            "Setting up poppler-data (0.4.9-2) ...\n",
            "Setting up libjbig2dec0:amd64 (0.18-1ubuntu1) ...\n",
            "Setting up libidn11:amd64 (1.33-2.2ubuntu2) ...\n",
            "Setting up fonts-droid-fallback (1:6.0.1r16-1.1) ...\n",
            "Setting up libgs9-common (9.50~dfsg-5ubuntu4.7) ...\n",
            "Setting up libgs9:amd64 (9.50~dfsg-5ubuntu4.7) ...\n",
            "Setting up ghostscript (9.50~dfsg-5ubuntu4.7) ...\n",
            "Processing triggers for fontconfig (2.13.1-2ubuntu3) ...\n",
            "Processing triggers for libc-bin (2.31-0ubuntu9.9) ...\n",
            "Processing triggers for man-db (2.9.1-1) ...\n"
          ]
        }
      ]
    },
    {
      "cell_type": "code",
      "source": [
        "import camelot\n",
        "import os\n",
        "\n",
        "# Set the path to the Ghostscript executable\n",
        "ghostscript_path = '/usr/bin/gs'\n",
        "\n",
        "# Specify the path to your PDF file\n",
        "pdf_path = '/content/sample_data/hdfc_brsr.pdf'\n",
        "# Set the Ghostscript path in the environment variable\n",
        "os.environ['CAMELOT_GHOSTSCRIPT_PATH'] = ghostscript_path\n",
        "\n",
        "# Use camelot with the 'lattice' flavor\n",
        "tables = camelot.read_pdf(pdf_path, flavor='lattice')\n",
        "\n",
        "# Iterate over the tables extracted using the 'lattice' flavor\n",
        "for table in tables:\n",
        "    df = table.df\n",
        "    print(df)\n",
        "\n",
        "tables_stream = camelot.read_pdf(pdf_path, flavor='stream')\n",
        "\n",
        "# Iterate over the tables extracted using the 'stream' flavor\n",
        "for table in tables_stream:\n",
        "    df = table.df\n",
        "    print(df)"
      ],
      "metadata": {
        "colab": {
          "base_uri": "https://localhost:8080/"
        },
        "id": "2VRYK6jHkWhl",
        "outputId": "986bc91c-7695-4794-ec9f-a5b29d7de101"
      },
      "execution_count": 103,
      "outputs": [
        {
          "output_type": "stream",
          "name": "stdout",
          "text": [
            "   0 1 2 3 4 5 6\n",
            "0               \n",
            "1               \n",
            "2               \n",
            "3               \n",
            "4  1            \n",
            "   0\n",
            "0  1\n"
          ]
        },
        {
          "output_type": "stream",
          "name": "stderr",
          "text": [
            "/usr/local/lib/python3.10/dist-packages/camelot/parsers/stream.py:365: UserWarning: No tables found in table area 1\n",
            "  warnings.warn(f\"No tables found in table area {table_idx + 1}\")\n"
          ]
        }
      ]
    },
    {
      "cell_type": "code",
      "source": [
        "pdf_path = '/content/sample_data/hdfc_brsr.pdf'\n",
        "df.to_csv('/content/sample_data/page1.csv')"
      ],
      "metadata": {
        "id": "7qIUqxehwjix"
      },
      "execution_count": 104,
      "outputs": []
    },
    {
      "cell_type": "code",
      "source": [
        "pip install PyPDF2"
      ],
      "metadata": {
        "colab": {
          "base_uri": "https://localhost:8080/"
        },
        "id": "BX4dkfUljZG5",
        "outputId": "edd180a7-322a-440f-cf7d-d6e922342138"
      },
      "execution_count": 105,
      "outputs": [
        {
          "output_type": "stream",
          "name": "stdout",
          "text": [
            "Looking in indexes: https://pypi.org/simple, https://us-python.pkg.dev/colab-wheels/public/simple/\n",
            "Requirement already satisfied: PyPDF2 in /usr/local/lib/python3.10/dist-packages (3.0.1)\n"
          ]
        }
      ]
    },
    {
      "cell_type": "code",
      "source": [
        "from PyPDF2 import PdfReader , PdfWriter \n",
        "\n",
        "pdf = PdfReader(pdf_path)\n",
        "\n",
        "with open(pdf_path, 'rb') as infile:\n",
        "\n",
        "    reader = PdfReader(infile)\n",
        "    writer = PdfWriter()\n",
        "    writer.add_page(reader.pages[25])\n",
        "\n",
        "    with open('output.pdf', 'wb') as outfile:\n",
        "        writer.write(outfile)"
      ],
      "metadata": {
        "id": "bwMbK2oejCcY"
      },
      "execution_count": 106,
      "outputs": []
    },
    {
      "cell_type": "code",
      "source": [
        "import camelot\n",
        "import os\n",
        "\n",
        "# Set the path to the Ghostscript executable\n",
        "ghostscript_path = '/usr/bin/gs'\n",
        "\n",
        "# Specify the path to your PDF file\n",
        "pdf_path = 'output.pdf'\n",
        "# Set the Ghostscript path in the environment variable\n",
        "os.environ['CAMELOT_GHOSTSCRIPT_PATH'] = ghostscript_path\n",
        "\n",
        "# Use camelot with the 'lattice' flavor\n",
        "tables = camelot.read_pdf(pdf_path, flavor='lattice')\n",
        "\n",
        "# Iterate over the tables extracted using the 'lattice' flavor\n",
        "c = 0\n",
        "for table in tables:\n",
        "    c += 1\n",
        "    df = table.df\n",
        "    print(df)\n",
        "    df.to_csv('/content/sample_data/page_26_hdfc_table' + str(c) + '.csv')\n",
        "print(tables.n)\n",
        "\n",
        "tables_stream = camelot.read_pdf(pdf_path, flavor='stream')\n",
        "print(tables_stream.n)\n",
        "\n",
        "# Iterate over the tables extracted using the 'stream' flavor\n",
        "# c = 1\n",
        "# for table in tables_stream:\n",
        "#     df = table.df\n",
        "#     fp = '/content/sample_data/principal_page_13_' + str(c) + '.csv'\n",
        "#     df.to_csv(fp)\n",
        "#     c += 1\n",
        "#     print(df)\n",
        "\n",
        "# import pandas as pd\n",
        "# dfs = []  # list to store dataframes\n",
        "# c = 0\n",
        "# for table in tables_stream:\n",
        "#     df = table.df\n",
        "#     c += 1\n",
        "#     df.columns = df.iloc[0]  # use first row as header\n",
        "#     df = df[1:]  # remove the first row from the dataframe\n",
        "#     print(df)\n",
        "#     df.to_csv('/content/sample_data/page_5_table' + str(c) + '.csv')\n",
        "    # dfs.append(df)\n",
        "    # df = pd.concat(dfs, axis=0)  # concatenate all dataframes in list \n",
        "    # df.to_csv('/content/sample_data/page_15_table' + str(c) + '.csv')  # export dataframe to csv"
      ],
      "metadata": {
        "colab": {
          "base_uri": "https://localhost:8080/"
        },
        "id": "hHtosRtNoj8Y",
        "outputId": "68c67dee-abe1-43e6-e6a3-cdc95782e140"
      },
      "execution_count": 107,
      "outputs": [
        {
          "output_type": "stream",
          "name": "stdout",
          "text": [
            "                                                   0  \\\n",
            "0                                           Category   \n",
            "1                                                      \n",
            "2                                          EMPLOYEES   \n",
            "3    Permanent\\n3,226\\n3,226\\n100\\n3,095\\n3,095\\n100   \n",
            "4  Other than permanent\\n2,264\\n2,264\\n100\\n2,194...   \n",
            "5  Total Employees\\n5,490\\n5,490\\n100\\n5,289\\n5,2...   \n",
            "\n",
            "                                                   1  \\\n",
            "0                                               FY21   \n",
            "1  No. of \\n%  \\nTotal (A)\\nemployees \\n(B/A)\\nco...   \n",
            "2                                                      \n",
            "3                                                      \n",
            "4                                                      \n",
            "5                                                      \n",
            "\n",
            "                                                   2  \n",
            "0                                               FY20  \n",
            "1  No. of \\n%  \\nTotal (C)\\nemployees \\n(D/C)\\nco...  \n",
            "2                                                     \n",
            "3                                                     \n",
            "4                                                     \n",
            "5                                                     \n",
            "                       0          1                        2  3   \\\n",
            "0                Category       FY21                               \n",
            "1                          Total (A)  Equal to \\nMinimum Wage      \n",
            "2                                        %   \\nNo. (B)\\n(B/A)      \n",
            "3               EMPLOYEES                                          \n",
            "4               Permanent      3,226                        -  -   \n",
            "5                    Male      2,399                        -  -   \n",
            "6                  Female        827                        -  -   \n",
            "7  Other than \\nPermanent      2,264                       78  3   \n",
            "8                    Male      1,120                       42  4   \n",
            "9                  Female      1,144                       36  3   \n",
            "\n",
            "                         4    5            6                        7  8   \\\n",
            "0                                        FY20                               \n",
            "1  More than \\nMinimum Wage       Total \\n(D)  Equal to \\nMinimum Wage      \n",
            "2        % \\nNo. (C)\\n(C/A)                         % \\nNo. (E)\\n(E/D)      \n",
            "3                                                                           \n",
            "4                     3,226  100        3,095                        -  -   \n",
            "5                     2,399  100        2,304                        -  -   \n",
            "6                       827  100          791                        -  -   \n",
            "7                     2,186   97        2,194                       66  3   \n",
            "8                     1,078   96        1,083                       37  3   \n",
            "9                     1,108   97        1,111                       29  3   \n",
            "\n",
            "                         9    10  \n",
            "0                                 \n",
            "1  More than \\nMinimum Wage       \n",
            "2        % \\nNo. (F)\\n(F/D)       \n",
            "3                                 \n",
            "4                     3,095  100  \n",
            "5                     2,304  100  \n",
            "6                       791  100  \n",
            "7                     2,128   97  \n",
            "8                     1,046   97  \n",
            "9                     1,082   97  \n",
            "                                                  0       1  \\\n",
            "0                                                      Male   \n",
            "1                                                    Number   \n",
            "2  Board of Directors (BoD)\\n(Whole-time directors)       2   \n",
            "3       Key Managerial Personnel \\n(other than BoD)       1   \n",
            "4     Employees other           than BoD \\nand KMP*   2,205   \n",
            "\n",
            "                                                   2       3  \\\n",
            "0                                                     Female   \n",
            "1  Median remuneration/ \\nsalary/ wages of \\nresp...  Number   \n",
            "2                                       13,16,69,079       1   \n",
            "3                                          74,17,908       -   \n",
            "4                                          11,41,600     726   \n",
            "\n",
            "                                                   4  \n",
            "0                                                     \n",
            "1  Median remuneration/ \\nsalary/ wages of \\nresp...  \n",
            "2                                       14,08,49,235  \n",
            "3                                                  -  \n",
            "4                                           9,05,167  \n",
            "3\n",
            "1\n"
          ]
        }
      ]
    },
    {
      "cell_type": "code",
      "source": [
        "df.to_csv('/content/sample_data/principal_page_13.csv')"
      ],
      "metadata": {
        "id": "DGhj0mXFosUf"
      },
      "execution_count": 108,
      "outputs": []
    },
    {
      "cell_type": "markdown",
      "source": [
        "# Extract Page No. Section Wise"
      ],
      "metadata": {
        "id": "2nYbROVuJBZg"
      }
    },
    {
      "cell_type": "code",
      "source": [
        "pip install tabula"
      ],
      "metadata": {
        "colab": {
          "base_uri": "https://localhost:8080/"
        },
        "id": "ztV0_sd4JOh-",
        "outputId": "933e077c-ecbb-42c4-f67b-4a3b1a83ed12"
      },
      "execution_count": 109,
      "outputs": [
        {
          "output_type": "stream",
          "name": "stdout",
          "text": [
            "Looking in indexes: https://pypi.org/simple, https://us-python.pkg.dev/colab-wheels/public/simple/\n",
            "Requirement already satisfied: tabula in /usr/local/lib/python3.10/dist-packages (1.0.5)\n",
            "Requirement already satisfied: setuptools in /usr/local/lib/python3.10/dist-packages (from tabula) (67.7.2)\n",
            "Requirement already satisfied: numpy in /usr/local/lib/python3.10/dist-packages (from tabula) (1.22.4)\n"
          ]
        }
      ]
    },
    {
      "cell_type": "code",
      "source": [
        "pip install pdfplumber"
      ],
      "metadata": {
        "colab": {
          "base_uri": "https://localhost:8080/"
        },
        "id": "TEotdn0ZpmeK",
        "outputId": "f56a73a0-7ff3-40d9-ef30-d175d61d6bdd"
      },
      "execution_count": 110,
      "outputs": [
        {
          "output_type": "stream",
          "name": "stdout",
          "text": [
            "Looking in indexes: https://pypi.org/simple, https://us-python.pkg.dev/colab-wheels/public/simple/\n",
            "Requirement already satisfied: pdfplumber in /usr/local/lib/python3.10/dist-packages (0.9.0)\n",
            "Requirement already satisfied: pdfminer.six==20221105 in /usr/local/lib/python3.10/dist-packages (from pdfplumber) (20221105)\n",
            "Requirement already satisfied: Pillow>=9.1 in /usr/local/lib/python3.10/dist-packages (from pdfplumber) (9.5.0)\n",
            "Requirement already satisfied: Wand>=0.6.10 in /usr/local/lib/python3.10/dist-packages (from pdfplumber) (0.6.11)\n",
            "Requirement already satisfied: charset-normalizer>=2.0.0 in /usr/local/lib/python3.10/dist-packages (from pdfminer.six==20221105->pdfplumber) (2.0.12)\n",
            "Requirement already satisfied: cryptography>=36.0.0 in /usr/local/lib/python3.10/dist-packages (from pdfminer.six==20221105->pdfplumber) (40.0.2)\n",
            "Requirement already satisfied: cffi>=1.12 in /usr/local/lib/python3.10/dist-packages (from cryptography>=36.0.0->pdfminer.six==20221105->pdfplumber) (1.15.1)\n",
            "Requirement already satisfied: pycparser in /usr/local/lib/python3.10/dist-packages (from cffi>=1.12->cryptography>=36.0.0->pdfminer.six==20221105->pdfplumber) (2.21)\n"
          ]
        }
      ]
    },
    {
      "cell_type": "code",
      "source": [
        "from PyPDF2 import PdfFileReader,PdfReader\n",
        "import pandas as pd\n",
        "import numpy as np\n",
        "import camelot\n",
        "import tabula"
      ],
      "metadata": {
        "id": "4nNR0eoTI6hn"
      },
      "execution_count": 111,
      "outputs": []
    },
    {
      "cell_type": "code",
      "source": [
        "file_path = \"/content/sample_data/hdfc_brsr.pdf\"\n",
        "pdf_file = open(file_path,\"rb\")"
      ],
      "metadata": {
        "id": "kZ_Su7_LJYZI"
      },
      "execution_count": 112,
      "outputs": []
    },
    {
      "cell_type": "code",
      "source": [
        "reader = PdfReader(pdf_file, strict=False)\n",
        "num_pages = len(reader.pages)\n",
        "print(num_pages)"
      ],
      "metadata": {
        "colab": {
          "base_uri": "https://localhost:8080/"
        },
        "id": "b_Fi5hncJsTq",
        "outputId": "6d309ee5-806f-4f93-b0b6-a8fbaae0f084"
      },
      "execution_count": 113,
      "outputs": [
        {
          "output_type": "stream",
          "name": "stdout",
          "text": [
            "38\n"
          ]
        }
      ]
    },
    {
      "cell_type": "code",
      "source": [
        "## list of Sections to get search pattern and extract tables section wise\n",
        "#hdfc sections\n",
        "sections = ['SECTION A: GENERAL DISCLOSURES','SECTION B: MANAGEMENT AND PROCESS DISCLOSURES','SECTION C: PRINCIPLE-WISE PERFORMANCE DISCLOSURE']\n",
        "principles = [\"Principle 1\",\"Principle 2\"]\n",
        "#abb sections\n",
        "# sections = ['SECTION A: GENERAL DISCLOSURES','SECTION B: MANAGEMENT AND PROCESS DISCLOSURES','SECTION C: PRINCIPLE WISE PERFORMANCE DISCLOSURE']"
      ],
      "metadata": {
        "id": "RO7G4R6IJ_QI"
      },
      "execution_count": 114,
      "outputs": []
    },
    {
      "cell_type": "code",
      "source": [
        "def fnPDF_FindText(xString, startPage):\n",
        "    # xfile : the PDF file in which to look\n",
        "    # xString : the string to look for\n",
        "    import re\n",
        "    PageFound = -1\n",
        "    #pdfDoc = PdfFileReader(file(xFile, \"rb\"))\n",
        "    for i in range(startPage, num_pages):\n",
        "        PgOb =  reader.pages[i]\n",
        "        Text = PgOb.extract_text()\n",
        "        if re.search(xString,Text):\n",
        "             print(\"String - \"+xString+\", found on Page: \"+str(i))\n",
        "             PageFound = i   \n",
        "             return PageFound"
      ],
      "metadata": {
        "id": "sXfUkhJVKInw"
      },
      "execution_count": 121,
      "outputs": []
    },
    {
      "cell_type": "code",
      "source": [
        "# from pdfminer.pdfdocument import PageLabels\n",
        "# from pdfminer import high_level\n",
        "# import pdfplumber\n",
        "# import pdfminer\n",
        "# def fnPDF_FindText(xString, startPage):\n",
        "#     # xfile : the PDF file in which to look\n",
        "#     # xString : the string to look for\n",
        "#     import re\n",
        "#     PageFound = -1\n",
        "#     #pdfDoc = PdfFileReader(file(xFile, \"rb\"))\n",
        "#     for i in range(startPage, num_pages):\n",
        "#         PgOb = reader.pages[i]\n",
        "#         with open(file_path, 'rb') as f:\n",
        "#               Text = high_level.extract_text(f)\n",
        "#           #  text = high_level.extract_text(f)\n",
        "\n",
        "#             # Text = high_level.extract_text(PgOb)\n",
        "#               if re.search(xString,Text):\n",
        "#                   print(\"String - \"+xString+\", found on Page: \"+str(i))\n",
        "#                   PageFound = i\n",
        "#                   return PageFound"
      ],
      "metadata": {
        "id": "VnHNOURbtpPl"
      },
      "execution_count": 122,
      "outputs": []
    },
    {
      "cell_type": "code",
      "source": [
        "## Get All Pages for each Section\n",
        "# sectional length list - section \n",
        "section_pages = []\n",
        "section_pages.append(3)\n",
        "for i in range(0,len(sections)):\n",
        "    \n",
        "    start_search_string = sections[i]\n",
        "    print('Start Search for section '+start_search_string)\n",
        "    start_page = fnPDF_FindText(start_search_string,section_pages[i])\n",
        "    print(start_page)\n",
        "    section_pages.append(start_page)\n",
        "\n",
        "    \n",
        "section_pages.append(num_pages)\n",
        "#remove duplicates\n",
        "section_pages = [*set(section_pages)]\n",
        "#sort in ascending order\n",
        "section_pages.sort()\n",
        "print(section_pages)"
      ],
      "metadata": {
        "colab": {
          "base_uri": "https://localhost:8080/"
        },
        "id": "wwAM5Fs3KOEe",
        "outputId": "173dca56-b1c6-41a3-f21c-f8f08326a6df"
      },
      "execution_count": 123,
      "outputs": [
        {
          "output_type": "stream",
          "name": "stdout",
          "text": [
            "Start Search for section SECTION A: GENERAL DISCLOSURES\n",
            "String - SECTION A: GENERAL DISCLOSURES, found on Page: 3\n",
            "3\n",
            "Start Search for section SECTION B: MANAGEMENT AND PROCESS DISCLOSURES\n",
            "String - SECTION B: MANAGEMENT AND PROCESS DISCLOSURES, found on Page: 9\n",
            "9\n",
            "Start Search for section SECTION C: PRINCIPLE-WISE PERFORMANCE DISCLOSURE\n",
            "String - SECTION C: PRINCIPLE-WISE PERFORMANCE DISCLOSURE, found on Page: 13\n",
            "13\n",
            "[3, 9, 13, 38]\n"
          ]
        }
      ]
    },
    {
      "cell_type": "code",
      "source": [
        "# Create Directories \n",
        "import os.path\n",
        "from os import path\n",
        "\n",
        "if path.exists('/content/section_a') == False:\n",
        "  os.mkdir('/content/section_a')\n",
        "\n",
        "os.chdir('/content/section_a')\n",
        "\n",
        "if path.exists('/content/section_b') == False:\n",
        "  os.mkdir('/content/section_b')\n",
        "\n",
        "os.chdir('/content/section_b')\n",
        "\n",
        "if path.exists('/content/section_c') == False:\n",
        "  os.mkdir('/content/section_c')\n",
        "\n",
        "os.chdir('/content/section_c')\n",
        "!pwd\n",
        "!ls"
      ],
      "metadata": {
        "colab": {
          "base_uri": "https://localhost:8080/"
        },
        "id": "aA_TnpSUyT3i",
        "outputId": "72614828-686c-4855-8f5c-1897e67e295a"
      },
      "execution_count": 124,
      "outputs": [
        {
          "output_type": "stream",
          "name": "stdout",
          "text": [
            "/content/section_c\n"
          ]
        }
      ]
    },
    {
      "cell_type": "code",
      "source": [
        "# Divide pages to sections\n",
        "sec_a_pg = [section_pages[0],section_pages[1]]\n",
        "sec_b_pg = [section_pages[1],section_pages[2]]\n",
        "sec_c_pg = [section_pages[2],section_pages[3]]\n",
        "print(sec_a_pg)\n",
        "print(sec_b_pg)\n",
        "print(sec_c_pg)"
      ],
      "metadata": {
        "colab": {
          "base_uri": "https://localhost:8080/"
        },
        "id": "2O92LQ6NyucA",
        "outputId": "c2896a49-3746-45e5-bee9-ea429fabadda"
      },
      "execution_count": 125,
      "outputs": [
        {
          "output_type": "stream",
          "name": "stdout",
          "text": [
            "[3, 9]\n",
            "[9, 13]\n",
            "[13, 38]\n"
          ]
        }
      ]
    },
    {
      "cell_type": "code",
      "source": [
        "# Do table parsing for all pages in each section\n",
        "\n",
        "import camelot\n",
        "import os\n",
        "from PyPDF2 import PdfReader , PdfWriter \n",
        "# Set the path to the Ghostscript executable\n",
        "ghostscript_path = '/usr/bin/gs'\n",
        "# Set the Ghostscript path in the environment variable\n",
        "os.environ['CAMELOT_GHOSTSCRIPT_PATH'] = ghostscript_path\n",
        "pdf_path = \"/content/sample_data/hdfc_brsr.pdf\"\n",
        "pdf = PdfReader(pdf_path)\n",
        "\n",
        "# For section A\n",
        "for i in range(sec_a_pg[0],sec_a_pg[1]):\n",
        "  os.chdir('/content/')\n",
        "  print(i)\n",
        "  !pwd\n",
        "  pdf_path = \"/content/sample_data/hdfc_brsr.pdf\"\n",
        "  with open(pdf_path, 'rb') as infile:\n",
        "      reader = PdfReader(infile)\n",
        "      writer = PdfWriter()\n",
        "      writer.add_page(reader.pages[i])\n",
        "      with open('output.pdf', 'wb') as outfile:\n",
        "          writer.write(outfile)\n",
        "\n",
        "  # Specify the path to your PDF file\n",
        "  pdf_path = 'output.pdf'\n",
        "\n",
        "  # Use camelot with the 'lattice' flavor\n",
        "  tables = camelot.read_pdf(pdf_path, flavor='lattice')\n",
        "\n",
        "  # Iterate over the tables extracted using the 'lattice' flavor\n",
        "  c = 0\n",
        "  print(\"On page no. \",i)\n",
        "  dname = '/content/section_a' + '/page_' + str(i) + '_tables'\n",
        "  if path.exists(dname) == False:\n",
        "    os.mkdir(dname)\n",
        "\n",
        "  os.chdir(dname)\n",
        "  for table in tables:\n",
        "      c += 1\n",
        "      df = table.df\n",
        "      df.to_csv('table_' + str(c) + '.csv')\n",
        "  print(\"Extracted no. of tables = \",tables.n)\n",
        "\n",
        "  # tables_stream = camelot.read_pdf(pdf_path, flavor='stream')\n",
        "  # print(tables_stream.n)\n",
        "\n",
        "\n",
        "# For section B\n",
        "for i in range(sec_b_pg[0],sec_b_pg[1]):\n",
        "  os.chdir('/content/')\n",
        "  print(i)\n",
        "  !pwd\n",
        "  pdf_path = \"/content/sample_data/hdfc_brsr.pdf\"\n",
        "  with open(pdf_path, 'rb') as infile:\n",
        "      reader = PdfReader(infile)\n",
        "      writer = PdfWriter()\n",
        "      writer.add_page(reader.pages[i])\n",
        "      with open('output.pdf', 'wb') as outfile:\n",
        "          writer.write(outfile)\n",
        "\n",
        "  # Specify the path to your PDF file\n",
        "  pdf_path = 'output.pdf'\n",
        "\n",
        "  # Use camelot with the 'lattice' flavor\n",
        "  tables = camelot.read_pdf(pdf_path, flavor='lattice')\n",
        "\n",
        "  # Iterate over the tables extracted using the 'lattice' flavor\n",
        "  c = 0\n",
        "  print(\"On page no. \",i)\n",
        "  dname = '/content/section_b' + '/page_' + str(i) + '_tables'\n",
        "  if path.exists(dname) == False:\n",
        "    os.mkdir(dname)\n",
        "\n",
        "  os.chdir(dname)\n",
        "  for table in tables:\n",
        "      c += 1\n",
        "      df = table.df\n",
        "      df.to_csv('table_' + str(c) + '.csv')\n",
        "  print(\"Extracted no. of tables = \",tables.n)\n",
        "\n",
        "  # tables_stream = camelot.read_pdf(pdf_path, flavor='stream')\n",
        "  # print(tables_stream.n)\n",
        "\n",
        "\n",
        "# For section C\n",
        "for i in range(sec_c_pg[0],sec_c_pg[1]):\n",
        "  os.chdir('/content/')\n",
        "  print(i)\n",
        "  !pwd\n",
        "  pdf_path = \"/content/sample_data/hdfc_brsr.pdf\"\n",
        "  with open(pdf_path, 'rb') as infile:\n",
        "      reader = PdfReader(infile)\n",
        "      writer = PdfWriter()\n",
        "      writer.add_page(reader.pages[i])\n",
        "      with open('output.pdf', 'wb') as outfile:\n",
        "          writer.write(outfile)\n",
        "\n",
        "  # Specify the path to your PDF file\n",
        "  pdf_path = 'output.pdf'\n",
        "\n",
        "  # Use camelot with the 'lattice' flavor\n",
        "  tables = camelot.read_pdf(pdf_path, flavor='lattice')\n",
        "\n",
        "  # Iterate over the tables extracted using the 'lattice' flavor\n",
        "  c = 0\n",
        "  print(\"On page no. \",i)\n",
        "  dname = '/content/section_c' + '/page_' + str(i) + '_tables'\n",
        "  if path.exists(dname) == False:\n",
        "    os.mkdir(dname)\n",
        "\n",
        "  os.chdir(dname)\n",
        "  for table in tables:\n",
        "      c += 1\n",
        "      df = table.df\n",
        "      df.to_csv('table_' + str(c) + '.csv')\n",
        "  print(\"Extracted no. of tables = \",tables.n)\n",
        "\n",
        "  # tables_stream = camelot.read_pdf(pdf_path, flavor='stream')\n",
        "  # print(tables_stream.n)\n",
        "\n"
      ],
      "metadata": {
        "colab": {
          "base_uri": "https://localhost:8080/"
        },
        "id": "mUb4CGq6zrBd",
        "outputId": "2535863b-16c6-4021-a6e2-bac7c69d04fc"
      },
      "execution_count": 126,
      "outputs": [
        {
          "output_type": "stream",
          "name": "stdout",
          "text": [
            "3\n",
            "/content\n",
            "On page no.  3\n",
            "Extracted no. of tables =  2\n",
            "4\n",
            "/content\n",
            "On page no.  4\n",
            "Extracted no. of tables =  2\n",
            "5\n",
            "/content\n",
            "On page no.  5\n",
            "Extracted no. of tables =  4\n",
            "6\n",
            "/content\n",
            "On page no.  6\n",
            "Extracted no. of tables =  1\n",
            "7\n",
            "/content\n",
            "On page no.  7\n",
            "Extracted no. of tables =  1\n",
            "8\n",
            "/content\n",
            "On page no.  8\n",
            "Extracted no. of tables =  1\n",
            "9\n",
            "/content\n",
            "On page no.  9\n",
            "Extracted no. of tables =  2\n",
            "10\n",
            "/content\n",
            "On page no.  10\n",
            "Extracted no. of tables =  1\n",
            "11\n",
            "/content\n",
            "On page no.  11\n",
            "Extracted no. of tables =  1\n",
            "12\n",
            "/content\n",
            "On page no.  12\n",
            "Extracted no. of tables =  2\n",
            "13\n",
            "/content\n",
            "On page no.  13\n",
            "Extracted no. of tables =  1\n",
            "14\n",
            "/content\n",
            "On page no.  14\n",
            "Extracted no. of tables =  2\n",
            "15\n",
            "/content\n",
            "On page no.  15\n",
            "Extracted no. of tables =  1\n",
            "16\n",
            "/content\n",
            "On page no.  16\n",
            "Extracted no. of tables =  0\n",
            "17\n",
            "/content\n",
            "On page no.  17\n",
            "Extracted no. of tables =  0\n",
            "18\n",
            "/content\n",
            "On page no.  18\n",
            "Extracted no. of tables =  2\n",
            "19\n",
            "/content\n",
            "On page no.  19\n",
            "Extracted no. of tables =  2\n",
            "20\n",
            "/content\n",
            "On page no.  20\n",
            "Extracted no. of tables =  1\n",
            "21\n",
            "/content\n",
            "On page no.  21\n",
            "Extracted no. of tables =  3\n",
            "22\n",
            "/content\n",
            "On page no.  22\n",
            "Extracted no. of tables =  2\n",
            "23\n",
            "/content\n",
            "On page no.  23\n",
            "Extracted no. of tables =  1\n",
            "24\n",
            "/content\n",
            "On page no.  24\n",
            "Extracted no. of tables =  0\n",
            "25\n",
            "/content\n",
            "On page no.  25\n",
            "Extracted no. of tables =  3\n",
            "26\n",
            "/content\n",
            "On page no.  26\n",
            "Extracted no. of tables =  1\n",
            "27\n",
            "/content\n",
            "On page no.  27\n",
            "Extracted no. of tables =  2\n",
            "28\n",
            "/content\n",
            "On page no.  28\n",
            "Extracted no. of tables =  2\n",
            "29\n",
            "/content\n",
            "On page no.  29\n",
            "Extracted no. of tables =  4\n",
            "30\n",
            "/content\n",
            "On page no.  30\n",
            "Extracted no. of tables =  1\n",
            "31\n",
            "/content\n",
            "On page no.  31\n",
            "Extracted no. of tables =  1\n",
            "32\n",
            "/content\n",
            "On page no.  32\n",
            "Extracted no. of tables =  1\n",
            "33\n",
            "/content\n",
            "On page no.  33\n",
            "Extracted no. of tables =  1\n",
            "34\n",
            "/content\n",
            "On page no.  34\n",
            "Extracted no. of tables =  1\n",
            "35\n",
            "/content\n",
            "On page no.  35\n",
            "Extracted no. of tables =  1\n",
            "36\n",
            "/content\n",
            "On page no.  36\n",
            "Extracted no. of tables =  0\n",
            "37\n",
            "/content\n",
            "On page no.  37\n",
            "Extracted no. of tables =  0\n"
          ]
        }
      ]
    }
  ]
}